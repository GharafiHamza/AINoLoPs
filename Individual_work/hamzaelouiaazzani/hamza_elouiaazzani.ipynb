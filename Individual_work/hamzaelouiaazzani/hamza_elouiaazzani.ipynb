{
  "cells": [
    {
      "cell_type": "code",
      "execution_count": 1,
      "id": "5ef7cb03",
      "metadata": {
        "colab": {
          "base_uri": "https://localhost:8080/"
        },
        "id": "5ef7cb03",
        "outputId": "15572ff2-df17-4c55-cb79-4ce75357213a"
      },
      "outputs": [
        {
          "output_type": "stream",
          "name": "stdout",
          "text": [
            "Mounted at /content/drive/\n",
            "/content/drive/MyDrive/Fake_News_Detection/AINoLoPs\n"
          ]
        }
      ],
      "source": [
        "from google.colab import drive\n",
        "drive.mount('/content/drive/')\n",
        "%cd /content/drive/MyDrive/Fake_News_Detection/AINoLoPs"
      ]
    },
    {
      "cell_type": "code",
      "source": [
        "import json\n",
        "import pandas as pd\n",
        "import numpy as np\n",
        "import matplotlib.pyplot as plt\n",
        "import time\n",
        "import os"
      ],
      "metadata": {
        "id": "OVIl1hbFnn_F"
      },
      "id": "OVIl1hbFnn_F",
      "execution_count": 2,
      "outputs": []
    },
    {
      "cell_type": "code",
      "execution_count": 3,
      "id": "65f93493",
      "metadata": {
        "id": "65f93493"
      },
      "outputs": [],
      "source": [
        "path_train_rumors = os.path.join(\"data\",\"subtask-5A-arabic\",\"train_rumors.json\")\n",
        "path_dev_rumors = os.path.join(\"data\",\"subtask-5A-arabic\",\"dev_rumors.json\")\n",
        "path_relevance_judgments = os.path.join(\"data\",\"subtask-5A-arabic\",\"relevance_judgments.txt\")\n",
        "path_relevence_including_zero = os.path.join(\"data\",\"subtask-5A-arabic\",\"relevance_with_zeros.csv\")"
      ]
    },
    {
      "cell_type": "code",
      "execution_count": 4,
      "id": "f0d2f9e3",
      "metadata": {
        "colab": {
          "base_uri": "https://localhost:8080/",
          "height": 36
        },
        "id": "f0d2f9e3",
        "outputId": "b6384e74-91a1-4163-f493-83909bf6a745"
      },
      "outputs": [
        {
          "output_type": "execute_result",
          "data": {
            "text/plain": [
              "'data/subtask-5A-arabic/relevance_judgments.txt'"
            ],
            "application/vnd.google.colaboratory.intrinsic+json": {
              "type": "string"
            }
          },
          "metadata": {},
          "execution_count": 4
        }
      ],
      "source": [
        "path_relevance_judgments"
      ]
    },
    {
      "cell_type": "code",
      "execution_count": null,
      "id": "60803c29",
      "metadata": {
        "colab": {
          "base_uri": "https://localhost:8080/",
          "height": 36
        },
        "id": "60803c29",
        "outputId": "d760e8b2-a45b-4ed6-9a81-d992f5440b6a"
      },
      "outputs": [
        {
          "output_type": "execute_result",
          "data": {
            "text/plain": [
              "'/content/drive/MyDrive/Fake_News_Detection/AINoLoPs'"
            ],
            "application/vnd.google.colaboratory.intrinsic+json": {
              "type": "string"
            }
          },
          "metadata": {},
          "execution_count": 14
        }
      ],
      "source": [
        "pwd"
      ]
    },
    {
      "cell_type": "code",
      "execution_count": 5,
      "id": "1599e690",
      "metadata": {
        "id": "1599e690"
      },
      "outputs": [],
      "source": [
        "def read_json_file(path):\n",
        "    f = open(path , encoding=\"utf8\")\n",
        "    data = json.load(f)\n",
        "    f.close()\n",
        "    return data"
      ]
    },
    {
      "cell_type": "code",
      "execution_count": 6,
      "id": "dcad7259",
      "metadata": {
        "id": "dcad7259"
      },
      "outputs": [],
      "source": [
        "columns = [\"rumor_id\", \"0\", \"user_id\", \"relevance\"]\n",
        "def text_to_dataframe(path , columns):\n",
        "    df = pd.DataFrame(columns=columns)\n",
        "    file = open(path , 'r')\n",
        "\n",
        "    for line in file:\n",
        "        line = line.strip().split('\\t')\n",
        "        df.loc[len(df)] = line\n",
        "\n",
        "    file.close()\n",
        "    \n",
        "    \n",
        "    return df"
      ]
    },
    {
      "cell_type": "code",
      "execution_count": 7,
      "id": "4ac78db2",
      "metadata": {
        "id": "4ac78db2"
      },
      "outputs": [],
      "source": [
        "def json_to_dataframe(json_object):\n",
        "    df = pd.DataFrame()\n",
        "    for i in json_object[0].keys():\n",
        "        df[i] = [json_object[j][i] for j in range(len(json_object))]\n",
        "    return df"
      ]
    },
    {
      "cell_type": "code",
      "execution_count": 8,
      "id": "754fce49",
      "metadata": {
        "id": "754fce49"
      },
      "outputs": [],
      "source": [
        "train_rumors = read_json_file(path_train_rumors)\n",
        "dev_rumors = read_json_file(path_dev_rumors)\n",
        "\n",
        "train_rumors = json_to_dataframe(train_rumors)\n",
        "dev_rumors = json_to_dataframe(dev_rumors)"
      ]
    },
    {
      "cell_type": "code",
      "execution_count": 9,
      "id": "ca441513",
      "metadata": {
        "id": "ca441513"
      },
      "outputs": [],
      "source": [
        "train_rumors = read_json_file(path_train_rumors)\n",
        "dev_rumors = read_json_file(path_dev_rumors)\n",
        "\n",
        "train_rumors = json_to_dataframe(train_rumors)\n",
        "dev_rumors = json_to_dataframe(dev_rumors)\n",
        "\n",
        "rumors = pd.concat([train_rumors , dev_rumors])\n",
        "\n",
        "columns = [\"rumor_id\", \"0\", \"user_id\", \"relevance\"]\n",
        "relevance_data = text_to_dataframe(path_relevance_judgments , columns).drop([\"0\"] , axis=1)"
      ]
    },
    {
      "cell_type": "code",
      "execution_count": 10,
      "id": "da834faf",
      "metadata": {
        "id": "da834faf"
      },
      "outputs": [],
      "source": [
        "# relevance_data"
      ]
    },
    {
      "cell_type": "code",
      "execution_count": 11,
      "id": "d80fb4e1",
      "metadata": {
        "colab": {
          "base_uri": "https://localhost:8080/"
        },
        "id": "d80fb4e1",
        "outputId": "96d1b847-7048-4497-ced9-7e6ad774156c"
      },
      "outputs": [
        {
          "output_type": "execute_result",
          "data": {
            "text/plain": [
              "(526, 150, 78900)"
            ]
          },
          "metadata": {},
          "execution_count": 11
        }
      ],
      "source": [
        "unique_auts = relevance_data[\"user_id\"].value_counts(sort = False).index\n",
        "unique_rums = relevance_data[\"rumor_id\"].value_counts(sort = False).index\n",
        "len(unique_auts) , len(unique_rums) , len(unique_auts) * len(unique_rums)"
      ]
    },
    {
      "cell_type": "code",
      "execution_count": null,
      "id": "d83313d4",
      "metadata": {
        "id": "d83313d4"
      },
      "outputs": [],
      "source": [
        "# rumor_id = \"AuFIN_094\"\n",
        "# user_id = \"827130813632376836\" \n",
        "\n",
        "# columns = [\"rumor_id\" , \"user_id\" , \"relevance\"]\n",
        "# including_zero_relevance = pd.DataFrame(columns=columns)\n",
        "# import time\n",
        "\n",
        "# t = time.time()\n",
        "# val = relevance_data[(relevance_data[\"rumor_id\"] == rumor_id) & (relevance_data[\"user_id\"] == user_id)][\"relevance\"].values\n",
        "# row = [rumor_id , user_id , val] \n",
        "# including_zero_relevance.loc[len(including_zero_relevance)] = row\n",
        "# print(time.time()-t)"
      ]
    },
    {
      "cell_type": "markdown",
      "id": "c209ae06",
      "metadata": {
        "id": "c209ae06"
      },
      "source": [
        "the required time is :  776.9836897850037"
      ]
    },
    {
      "cell_type": "code",
      "execution_count": null,
      "id": "b6661753",
      "metadata": {
        "id": "b6661753"
      },
      "outputs": [],
      "source": [
        "# columns = [\"rumor_id\" , \"user_id\" , \"relevance\"]\n",
        "# including_zero_relevance = pd.DataFrame(columns=columns)\n",
        "\n",
        "\n",
        "# t = time.time()\n",
        "# for rumor in unique_rums:\n",
        "#     for aut in unique_auts:\n",
        "#         val = relevance_data[(relevance_data[\"rumor_id\"] == rumor) & (relevance_data[\"user_id\"] == aut)][\"relevance\"].values\n",
        "#         if len(val) == 0:\n",
        "#             val = 0\n",
        "#         else:\n",
        "#             val = val[0]\n",
        "#         row = [rumor, aut, val] \n",
        "#         including_zero_relevance.loc[len(including_zero_relevance)] = row\n",
        "# print(\"the required time is : \" , time.time() - t)"
      ]
    },
    {
      "cell_type": "code",
      "execution_count": null,
      "id": "95d95e32",
      "metadata": {
        "id": "95d95e32"
      },
      "outputs": [],
      "source": [
        "# including_zero_relevance"
      ]
    },
    {
      "cell_type": "code",
      "execution_count": null,
      "id": "d5b66129",
      "metadata": {
        "id": "d5b66129"
      },
      "outputs": [],
      "source": [
        "# including_zero_relevance[\"relevance\"].value_counts()"
      ]
    },
    {
      "cell_type": "code",
      "execution_count": null,
      "id": "52d13f89",
      "metadata": {
        "id": "52d13f89"
      },
      "outputs": [],
      "source": [
        "# including_zero_relevance[\"relevance\"].value_counts(\"relevance\")"
      ]
    },
    {
      "cell_type": "code",
      "execution_count": null,
      "id": "62350274",
      "metadata": {
        "id": "62350274"
      },
      "outputs": [],
      "source": [
        "# including_zero_relevance.to_csv(\"relevance_with_zeros.csv\", index=False)"
      ]
    },
    {
      "cell_type": "code",
      "execution_count": 12,
      "id": "b153d5ed",
      "metadata": {
        "id": "b153d5ed"
      },
      "outputs": [],
      "source": [
        "including_zero_relevance = pd.read_csv(path_relevence_including_zero)"
      ]
    },
    {
      "cell_type": "code",
      "execution_count": 13,
      "id": "de3bd614",
      "metadata": {
        "colab": {
          "base_uri": "https://localhost:8080/"
        },
        "id": "de3bd614",
        "outputId": "579d27bc-ea5e-4d9d-ae3b-c40fd74e9868"
      },
      "outputs": [
        {
          "output_type": "execute_result",
          "data": {
            "text/plain": [
              "Index(['rumor_id', 'user_id', 'relevance'], dtype='object')"
            ]
          },
          "metadata": {},
          "execution_count": 13
        }
      ],
      "source": [
        "including_zero_relevance.columns"
      ]
    },
    {
      "cell_type": "code",
      "execution_count": 14,
      "id": "c937d9cf",
      "metadata": {
        "colab": {
          "base_uri": "https://localhost:8080/",
          "height": 423
        },
        "id": "c937d9cf",
        "outputId": "dbd47852-05ca-4023-f9de-c6f86ceb7236"
      },
      "outputs": [
        {
          "output_type": "execute_result",
          "data": {
            "text/plain": [
              "        rumor_id              user_id  relevance\n",
              "0      AuFIN_094            296134526          1\n",
              "1      AuFIN_094            239501900          2\n",
              "2      AuFIN_094            270471814          2\n",
              "3      AuFIN_094            259691986          1\n",
              "4      AuFIN_094   847030764587900929          1\n",
              "...          ...                  ...        ...\n",
              "78895  AuFIN_104           1696992542          0\n",
              "78896  AuFIN_104           2504924647          0\n",
              "78897  AuFIN_104  1024060674497015814          0\n",
              "78898  AuFIN_104           2572368029          0\n",
              "78899  AuFIN_104   827130813632376836          2\n",
              "\n",
              "[78900 rows x 3 columns]"
            ],
            "text/html": [
              "\n",
              "  <div id=\"df-8c1e3bbd-c5a4-4ee1-b169-10f4c2aeebe4\">\n",
              "    <div class=\"colab-df-container\">\n",
              "      <div>\n",
              "<style scoped>\n",
              "    .dataframe tbody tr th:only-of-type {\n",
              "        vertical-align: middle;\n",
              "    }\n",
              "\n",
              "    .dataframe tbody tr th {\n",
              "        vertical-align: top;\n",
              "    }\n",
              "\n",
              "    .dataframe thead th {\n",
              "        text-align: right;\n",
              "    }\n",
              "</style>\n",
              "<table border=\"1\" class=\"dataframe\">\n",
              "  <thead>\n",
              "    <tr style=\"text-align: right;\">\n",
              "      <th></th>\n",
              "      <th>rumor_id</th>\n",
              "      <th>user_id</th>\n",
              "      <th>relevance</th>\n",
              "    </tr>\n",
              "  </thead>\n",
              "  <tbody>\n",
              "    <tr>\n",
              "      <th>0</th>\n",
              "      <td>AuFIN_094</td>\n",
              "      <td>296134526</td>\n",
              "      <td>1</td>\n",
              "    </tr>\n",
              "    <tr>\n",
              "      <th>1</th>\n",
              "      <td>AuFIN_094</td>\n",
              "      <td>239501900</td>\n",
              "      <td>2</td>\n",
              "    </tr>\n",
              "    <tr>\n",
              "      <th>2</th>\n",
              "      <td>AuFIN_094</td>\n",
              "      <td>270471814</td>\n",
              "      <td>2</td>\n",
              "    </tr>\n",
              "    <tr>\n",
              "      <th>3</th>\n",
              "      <td>AuFIN_094</td>\n",
              "      <td>259691986</td>\n",
              "      <td>1</td>\n",
              "    </tr>\n",
              "    <tr>\n",
              "      <th>4</th>\n",
              "      <td>AuFIN_094</td>\n",
              "      <td>847030764587900929</td>\n",
              "      <td>1</td>\n",
              "    </tr>\n",
              "    <tr>\n",
              "      <th>...</th>\n",
              "      <td>...</td>\n",
              "      <td>...</td>\n",
              "      <td>...</td>\n",
              "    </tr>\n",
              "    <tr>\n",
              "      <th>78895</th>\n",
              "      <td>AuFIN_104</td>\n",
              "      <td>1696992542</td>\n",
              "      <td>0</td>\n",
              "    </tr>\n",
              "    <tr>\n",
              "      <th>78896</th>\n",
              "      <td>AuFIN_104</td>\n",
              "      <td>2504924647</td>\n",
              "      <td>0</td>\n",
              "    </tr>\n",
              "    <tr>\n",
              "      <th>78897</th>\n",
              "      <td>AuFIN_104</td>\n",
              "      <td>1024060674497015814</td>\n",
              "      <td>0</td>\n",
              "    </tr>\n",
              "    <tr>\n",
              "      <th>78898</th>\n",
              "      <td>AuFIN_104</td>\n",
              "      <td>2572368029</td>\n",
              "      <td>0</td>\n",
              "    </tr>\n",
              "    <tr>\n",
              "      <th>78899</th>\n",
              "      <td>AuFIN_104</td>\n",
              "      <td>827130813632376836</td>\n",
              "      <td>2</td>\n",
              "    </tr>\n",
              "  </tbody>\n",
              "</table>\n",
              "<p>78900 rows × 3 columns</p>\n",
              "</div>\n",
              "      <button class=\"colab-df-convert\" onclick=\"convertToInteractive('df-8c1e3bbd-c5a4-4ee1-b169-10f4c2aeebe4')\"\n",
              "              title=\"Convert this dataframe to an interactive table.\"\n",
              "              style=\"display:none;\">\n",
              "        \n",
              "  <svg xmlns=\"http://www.w3.org/2000/svg\" height=\"24px\"viewBox=\"0 0 24 24\"\n",
              "       width=\"24px\">\n",
              "    <path d=\"M0 0h24v24H0V0z\" fill=\"none\"/>\n",
              "    <path d=\"M18.56 5.44l.94 2.06.94-2.06 2.06-.94-2.06-.94-.94-2.06-.94 2.06-2.06.94zm-11 1L8.5 8.5l.94-2.06 2.06-.94-2.06-.94L8.5 2.5l-.94 2.06-2.06.94zm10 10l.94 2.06.94-2.06 2.06-.94-2.06-.94-.94-2.06-.94 2.06-2.06.94z\"/><path d=\"M17.41 7.96l-1.37-1.37c-.4-.4-.92-.59-1.43-.59-.52 0-1.04.2-1.43.59L10.3 9.45l-7.72 7.72c-.78.78-.78 2.05 0 2.83L4 21.41c.39.39.9.59 1.41.59.51 0 1.02-.2 1.41-.59l7.78-7.78 2.81-2.81c.8-.78.8-2.07 0-2.86zM5.41 20L4 18.59l7.72-7.72 1.47 1.35L5.41 20z\"/>\n",
              "  </svg>\n",
              "      </button>\n",
              "      \n",
              "  <style>\n",
              "    .colab-df-container {\n",
              "      display:flex;\n",
              "      flex-wrap:wrap;\n",
              "      gap: 12px;\n",
              "    }\n",
              "\n",
              "    .colab-df-convert {\n",
              "      background-color: #E8F0FE;\n",
              "      border: none;\n",
              "      border-radius: 50%;\n",
              "      cursor: pointer;\n",
              "      display: none;\n",
              "      fill: #1967D2;\n",
              "      height: 32px;\n",
              "      padding: 0 0 0 0;\n",
              "      width: 32px;\n",
              "    }\n",
              "\n",
              "    .colab-df-convert:hover {\n",
              "      background-color: #E2EBFA;\n",
              "      box-shadow: 0px 1px 2px rgba(60, 64, 67, 0.3), 0px 1px 3px 1px rgba(60, 64, 67, 0.15);\n",
              "      fill: #174EA6;\n",
              "    }\n",
              "\n",
              "    [theme=dark] .colab-df-convert {\n",
              "      background-color: #3B4455;\n",
              "      fill: #D2E3FC;\n",
              "    }\n",
              "\n",
              "    [theme=dark] .colab-df-convert:hover {\n",
              "      background-color: #434B5C;\n",
              "      box-shadow: 0px 1px 3px 1px rgba(0, 0, 0, 0.15);\n",
              "      filter: drop-shadow(0px 1px 2px rgba(0, 0, 0, 0.3));\n",
              "      fill: #FFFFFF;\n",
              "    }\n",
              "  </style>\n",
              "\n",
              "      <script>\n",
              "        const buttonEl =\n",
              "          document.querySelector('#df-8c1e3bbd-c5a4-4ee1-b169-10f4c2aeebe4 button.colab-df-convert');\n",
              "        buttonEl.style.display =\n",
              "          google.colab.kernel.accessAllowed ? 'block' : 'none';\n",
              "\n",
              "        async function convertToInteractive(key) {\n",
              "          const element = document.querySelector('#df-8c1e3bbd-c5a4-4ee1-b169-10f4c2aeebe4');\n",
              "          const dataTable =\n",
              "            await google.colab.kernel.invokeFunction('convertToInteractive',\n",
              "                                                     [key], {});\n",
              "          if (!dataTable) return;\n",
              "\n",
              "          const docLinkHtml = 'Like what you see? Visit the ' +\n",
              "            '<a target=\"_blank\" href=https://colab.research.google.com/notebooks/data_table.ipynb>data table notebook</a>'\n",
              "            + ' to learn more about interactive tables.';\n",
              "          element.innerHTML = '';\n",
              "          dataTable['output_type'] = 'display_data';\n",
              "          await google.colab.output.renderOutput(dataTable, element);\n",
              "          const docLink = document.createElement('div');\n",
              "          docLink.innerHTML = docLinkHtml;\n",
              "          element.appendChild(docLink);\n",
              "        }\n",
              "      </script>\n",
              "    </div>\n",
              "  </div>\n",
              "  "
            ]
          },
          "metadata": {},
          "execution_count": 14
        }
      ],
      "source": [
        "including_zero_relevance"
      ]
    },
    {
      "cell_type": "code",
      "execution_count": 15,
      "id": "d2a2d176",
      "metadata": {
        "colab": {
          "base_uri": "https://localhost:8080/"
        },
        "id": "d2a2d176",
        "outputId": "55f46c62-13a8-48e7-ad30-6a8cf08bab62"
      },
      "outputs": [
        {
          "output_type": "execute_result",
          "data": {
            "text/plain": [
              "0    77856\n",
              "2      619\n",
              "1      425\n",
              "Name: relevance, dtype: int64"
            ]
          },
          "metadata": {},
          "execution_count": 15
        }
      ],
      "source": [
        "including_zero_relevance[\"relevance\"].value_counts()"
      ]
    },
    {
      "cell_type": "code",
      "execution_count": 16,
      "id": "52009013",
      "metadata": {
        "colab": {
          "base_uri": "https://localhost:8080/"
        },
        "id": "52009013",
        "outputId": "8a3af184-106a-4ac5-88c2-061f61a7a3e7"
      },
      "outputs": [
        {
          "output_type": "execute_result",
          "data": {
            "text/plain": [
              "0    0.986768\n",
              "2    0.007845\n",
              "1    0.005387\n",
              "Name: relevance, dtype: float64"
            ]
          },
          "metadata": {},
          "execution_count": 16
        }
      ],
      "source": [
        "including_zero_relevance[\"relevance\"].value_counts(\"relevance\")"
      ]
    },
    {
      "cell_type": "code",
      "execution_count": null,
      "id": "21d527e8",
      "metadata": {
        "id": "21d527e8"
      },
      "outputs": [],
      "source": []
    },
    {
      "cell_type": "code",
      "execution_count": null,
      "id": "d5b11a1f",
      "metadata": {
        "id": "d5b11a1f"
      },
      "outputs": [],
      "source": []
    },
    {
      "cell_type": "code",
      "execution_count": null,
      "id": "88490eab",
      "metadata": {
        "id": "88490eab"
      },
      "outputs": [],
      "source": []
    },
    {
      "cell_type": "markdown",
      "id": "91bdc0eb",
      "metadata": {
        "id": "91bdc0eb"
      },
      "source": [
        "### Text representation with Pretrained Bert"
      ]
    },
    {
      "cell_type": "code",
      "execution_count": null,
      "id": "a73ce187",
      "metadata": {
        "id": "a73ce187"
      },
      "outputs": [],
      "source": [
        "# import torch\n",
        "# from transformers import AutoTokenizer, AutoModel\n",
        "\n",
        "# # Load pre-trained BERT model and tokenizer\n",
        "# tokenizer = AutoTokenizer.from_pretrained('bert-base-uncased')\n",
        "# model = AutoModel.from_pretrained('bert-base-uncased')"
      ]
    },
    {
      "cell_type": "code",
      "execution_count": null,
      "id": "3ea218ee",
      "metadata": {
        "id": "3ea218ee"
      },
      "outputs": [],
      "source": [
        "# # Define sentence to encode\n",
        "# sentence = \"I heard that John is leaving the company.\"\n",
        "\n",
        "# # Tokenize sentence and convert to tensor\n",
        "# input_ids = torch.tensor(tokenizer.encode(sentence, add_special_tokens=True)).unsqueeze(0)"
      ]
    },
    {
      "cell_type": "code",
      "execution_count": null,
      "id": "60f33943",
      "metadata": {
        "id": "60f33943"
      },
      "outputs": [],
      "source": [
        "#input_ids"
      ]
    },
    {
      "cell_type": "code",
      "execution_count": null,
      "id": "1e6a64e2",
      "metadata": {
        "id": "1e6a64e2"
      },
      "outputs": [],
      "source": [
        "# # Get BERT embeddings for sentence\n",
        "# with torch.no_grad():\n",
        "#     outputs = model(input_ids)\n",
        "#     embeddings = outputs[0].squeeze(0)"
      ]
    },
    {
      "cell_type": "code",
      "execution_count": null,
      "id": "9e76fd7c",
      "metadata": {
        "id": "9e76fd7c"
      },
      "outputs": [],
      "source": [
        "# embeddings.shape"
      ]
    },
    {
      "cell_type": "code",
      "execution_count": null,
      "id": "6af789d7",
      "metadata": {
        "id": "6af789d7"
      },
      "outputs": [],
      "source": []
    },
    {
      "cell_type": "code",
      "execution_count": null,
      "id": "b1f80325",
      "metadata": {
        "id": "b1f80325"
      },
      "outputs": [],
      "source": []
    },
    {
      "cell_type": "code",
      "execution_count": 18,
      "id": "d6bbbad7",
      "metadata": {
        "id": "d6bbbad7",
        "colab": {
          "base_uri": "https://localhost:8080/"
        },
        "outputId": "7d02d838-c5de-484c-9a7b-bc98f426139a"
      },
      "outputs": [
        {
          "output_type": "stream",
          "name": "stdout",
          "text": [
            "Looking in indexes: https://pypi.org/simple, https://us-python.pkg.dev/colab-wheels/public/simple/\n",
            "Collecting transformers\n",
            "  Downloading transformers-4.27.4-py3-none-any.whl (6.8 MB)\n",
            "\u001b[2K     \u001b[90m━━━━━━━━━━━━━━━━━━━━━━━━━━━━━━━━━━━━━━━━\u001b[0m \u001b[32m6.8/6.8 MB\u001b[0m \u001b[31m56.2 MB/s\u001b[0m eta \u001b[36m0:00:00\u001b[0m\n",
            "\u001b[?25hRequirement already satisfied: regex!=2019.12.17 in /usr/local/lib/python3.9/dist-packages (from transformers) (2022.10.31)\n",
            "Requirement already satisfied: packaging>=20.0 in /usr/local/lib/python3.9/dist-packages (from transformers) (23.0)\n",
            "Requirement already satisfied: requests in /usr/local/lib/python3.9/dist-packages (from transformers) (2.27.1)\n",
            "Requirement already satisfied: pyyaml>=5.1 in /usr/local/lib/python3.9/dist-packages (from transformers) (6.0)\n",
            "Requirement already satisfied: numpy>=1.17 in /usr/local/lib/python3.9/dist-packages (from transformers) (1.22.4)\n",
            "Collecting tokenizers!=0.11.3,<0.14,>=0.11.1\n",
            "  Downloading tokenizers-0.13.3-cp39-cp39-manylinux_2_17_x86_64.manylinux2014_x86_64.whl (7.8 MB)\n",
            "\u001b[2K     \u001b[90m━━━━━━━━━━━━━━━━━━━━━━━━━━━━━━━━━━━━━━━━\u001b[0m \u001b[32m7.8/7.8 MB\u001b[0m \u001b[31m96.9 MB/s\u001b[0m eta \u001b[36m0:00:00\u001b[0m\n",
            "\u001b[?25hRequirement already satisfied: tqdm>=4.27 in /usr/local/lib/python3.9/dist-packages (from transformers) (4.65.0)\n",
            "Requirement already satisfied: filelock in /usr/local/lib/python3.9/dist-packages (from transformers) (3.11.0)\n",
            "Collecting huggingface-hub<1.0,>=0.11.0\n",
            "  Downloading huggingface_hub-0.13.4-py3-none-any.whl (200 kB)\n",
            "\u001b[2K     \u001b[90m━━━━━━━━━━━━━━━━━━━━━━━━━━━━━━━━━━━━━━\u001b[0m \u001b[32m200.1/200.1 kB\u001b[0m \u001b[31m27.1 MB/s\u001b[0m eta \u001b[36m0:00:00\u001b[0m\n",
            "\u001b[?25hRequirement already satisfied: typing-extensions>=3.7.4.3 in /usr/local/lib/python3.9/dist-packages (from huggingface-hub<1.0,>=0.11.0->transformers) (4.5.0)\n",
            "Requirement already satisfied: idna<4,>=2.5 in /usr/local/lib/python3.9/dist-packages (from requests->transformers) (3.4)\n",
            "Requirement already satisfied: certifi>=2017.4.17 in /usr/local/lib/python3.9/dist-packages (from requests->transformers) (2022.12.7)\n",
            "Requirement already satisfied: urllib3<1.27,>=1.21.1 in /usr/local/lib/python3.9/dist-packages (from requests->transformers) (1.26.15)\n",
            "Requirement already satisfied: charset-normalizer~=2.0.0 in /usr/local/lib/python3.9/dist-packages (from requests->transformers) (2.0.12)\n",
            "Installing collected packages: tokenizers, huggingface-hub, transformers\n",
            "Successfully installed huggingface-hub-0.13.4 tokenizers-0.13.3 transformers-4.27.4\n"
          ]
        }
      ],
      "source": [
        "!pip install transformers"
      ]
    },
    {
      "cell_type": "code",
      "execution_count": 19,
      "id": "6d85fc8a",
      "metadata": {
        "colab": {
          "base_uri": "https://localhost:8080/",
          "height": 177,
          "referenced_widgets": [
            "a3ed7568b34a4dd4b90c5f7a4aade484",
            "4b93bd5f08ec4a99bd42b99ea0983f4e",
            "e8a2c37403db40319d115484b08c8f11",
            "35d32921786a4fe3979b36c491900351",
            "373d1e840e0840ab84133f66b89a7d28",
            "c092d52714e64619893a5943a6e6aba2",
            "edd32310daa34f74a7ad6c74ea9febff",
            "900bd06edad24d4796b8009ce4e2525f",
            "a196f1f40c784e2cbb83689da7d41c99",
            "3e7549771e7c49f7b4db78294385280e",
            "b9530606d64640ea921aefe737782294",
            "005c65f0f59a4b1d9f15addd21156488",
            "1d44e6368a6743fe99be51ccdb62331d",
            "1c7be13d41c644c1857b7146b4e988dc",
            "7a15410394074ea2be089c7388128a52",
            "5d0a5642d5d74ac58c2c5147b60b30a1",
            "2be99b3a53b443738510029ab1bf5547",
            "548d325dc8604366ac65b11176750ec1",
            "d4e038668ddb42f08167750f6f530d5f",
            "812e8cbc5196422f97a2c3233be6aac6",
            "dd7a230c2a3845b887a91086a3f0ee94",
            "5eef1360dc85457e9f62b0a83aaa2341",
            "34d0dde634a04ba3ba99e97ce03cd240",
            "02e418b3d7b3493bbd673c939476887a",
            "721fde753e7e457694b1e439048dd4fe",
            "e24a2e5f2d4d405185ca046eee99ff39",
            "f1018420990b43ebb75bbb4f7785b396",
            "114bf8c020ff4fb4914b93d3a3dc8646",
            "fd417433615c4f17b5c3c3aed2ce5fc5",
            "1232691bde70408c9f30dae267a713a7",
            "2da0fac83a2b48edb32646be330458c0",
            "13b72117e3cc4ae3a613472edea3d781",
            "a4579edc4ffe4bfbbfdead7c9d0b54bf",
            "8d53bc528a86443e843786cca778cb1b",
            "b9fa44779df540738983cf3e2b5ba3c0",
            "5b046f0ce8234261bd6cf8a1087f9725",
            "e0ddc8fe36014cf79f184b892e010030",
            "75f917c0f65148b7812fafdc8984579e",
            "ddc98b4c8f69446d8db36ddcdddda867",
            "6d820717788e41c7bbcf39e5ce4e8dcf",
            "d513e528026748e09f00eee06e051ce6",
            "eaa66dde85264fc0822e0ca2e7d33f40",
            "ac3e7cfcd4c74602bcb00a94d3a0a89f",
            "abf2995c4b9846ff8243d6c927e0d80e",
            "adb062aa7d7d4426bf3526a8ca34258c",
            "a2ae1c95890f485b9974a83881122548",
            "e57795ed719b480fb0c0313fa8d3f172",
            "f149d8f0286c4384b86c79d8161b3c38",
            "6b0b9dcb7d2242e8b36632cb07545b9a",
            "6d2b263724d248c88d4dad2bc32cdaaa",
            "3d5a27da973b42f587e2f595ca9b6f7b",
            "60f5800b17064aeba3de3cd00070bce4",
            "9dc475ffaaed4ae1885699102198cbd5",
            "be09f66f68024901aad90481a8c381a4",
            "00d78a8833ce424cba92963efea99d2b"
          ]
        },
        "id": "6d85fc8a",
        "outputId": "a44d2309-ec49-4bb2-caf4-50870a31de5e"
      },
      "outputs": [
        {
          "output_type": "display_data",
          "data": {
            "text/plain": [
              "Downloading (…)okenizer_config.json:   0%|          | 0.00/381 [00:00<?, ?B/s]"
            ],
            "application/vnd.jupyter.widget-view+json": {
              "version_major": 2,
              "version_minor": 0,
              "model_id": "a3ed7568b34a4dd4b90c5f7a4aade484"
            }
          },
          "metadata": {}
        },
        {
          "output_type": "display_data",
          "data": {
            "text/plain": [
              "Downloading (…)lve/main/config.json:   0%|          | 0.00/384 [00:00<?, ?B/s]"
            ],
            "application/vnd.jupyter.widget-view+json": {
              "version_major": 2,
              "version_minor": 0,
              "model_id": "005c65f0f59a4b1d9f15addd21156488"
            }
          },
          "metadata": {}
        },
        {
          "output_type": "display_data",
          "data": {
            "text/plain": [
              "Downloading (…)solve/main/vocab.txt:   0%|          | 0.00/825k [00:00<?, ?B/s]"
            ],
            "application/vnd.jupyter.widget-view+json": {
              "version_major": 2,
              "version_minor": 0,
              "model_id": "34d0dde634a04ba3ba99e97ce03cd240"
            }
          },
          "metadata": {}
        },
        {
          "output_type": "display_data",
          "data": {
            "text/plain": [
              "Downloading (…)/main/tokenizer.json:   0%|          | 0.00/2.64M [00:00<?, ?B/s]"
            ],
            "application/vnd.jupyter.widget-view+json": {
              "version_major": 2,
              "version_minor": 0,
              "model_id": "8d53bc528a86443e843786cca778cb1b"
            }
          },
          "metadata": {}
        },
        {
          "output_type": "display_data",
          "data": {
            "text/plain": [
              "Downloading (…)cial_tokens_map.json:   0%|          | 0.00/112 [00:00<?, ?B/s]"
            ],
            "application/vnd.jupyter.widget-view+json": {
              "version_major": 2,
              "version_minor": 0,
              "model_id": "adb062aa7d7d4426bf3526a8ca34258c"
            }
          },
          "metadata": {}
        }
      ],
      "source": [
        "import torch\n",
        "from transformers import AutoTokenizer, AutoModel\n",
        "\n",
        "# Load pre-trained AraBERT model and tokenizer\n",
        "tokenizer = AutoTokenizer.from_pretrained('aubmindlab/bert-base-arabertv02') #SentencePiece is a popular subword tokenizer \n",
        "# model = AutoModel.from_pretrained('aubmindlab/bert-base-arabertv02')"
      ]
    },
    {
      "cell_type": "code",
      "execution_count": null,
      "id": "3149f38a",
      "metadata": {
        "id": "3149f38a"
      },
      "outputs": [],
      "source": [
        "# model.save_pretrained('AraBert2')"
      ]
    },
    {
      "cell_type": "code",
      "execution_count": 20,
      "id": "2ebe7079",
      "metadata": {
        "id": "2ebe7079"
      },
      "outputs": [],
      "source": [
        "model = AutoModel.from_pretrained('AraBert2')"
      ]
    },
    {
      "cell_type": "code",
      "source": [
        "i = rumors[\"tweet_text\"][0]\n",
        "tokens = tokenizer.tokenize(i)\n",
        "tokens = ['[CLS]'] + tokens + ['[SEP]']\n",
        "input_ids = tokenizer.convert_tokens_to_ids(tokens)\n",
        "input_ids = torch.tensor(input_ids).unsqueeze(0)\n",
        "\n",
        "# Get BERT embeddings for the input ids\n",
        "with torch.no_grad():\n",
        "    outputs = model(input_ids)\n",
        "    sentence_embedding = outputs[0][:, 0, :]  # take the final hidden state of the [CLS] token"
      ],
      "metadata": {
        "id": "-gDfLh8m3mNI"
      },
      "id": "-gDfLh8m3mNI",
      "execution_count": 34,
      "outputs": []
    },
    {
      "cell_type": "code",
      "source": [
        "l = []\n",
        "\n",
        "for i in rumors[\"tweet_text\"]:\n",
        "    \n",
        "    tokens = tokenizer.tokenize(i)\n",
        "    tokens = ['[CLS]'] + tokens + ['[SEP]']\n",
        "    input_ids = tokenizer.convert_tokens_to_ids(tokens)\n",
        "    input_ids = torch.tensor(input_ids).unsqueeze(0)\n",
        "\n",
        "    \n",
        "    # Get BERT embeddings for the input ids\n",
        "    with torch.no_grad():\n",
        "        outputs = model(input_ids)\n",
        "        sentence_embedding = outputs[0][:, 0, :]  # take the final hidden state of the [CLS] token\n",
        "    \n",
        "    l.append(sentence_embedding)\n",
        "    \n",
        "X = np.vstack(l)"
      ],
      "metadata": {
        "id": "7IjRRBjFrzxg"
      },
      "id": "7IjRRBjFrzxg",
      "execution_count": 23,
      "outputs": []
    },
    {
      "cell_type": "code",
      "source": [
        "y = np.array(rumors[\"category\"])\n",
        "y.shape"
      ],
      "metadata": {
        "colab": {
          "base_uri": "https://localhost:8080/"
        },
        "id": "_FWJTe2HzZdW",
        "outputId": "85be8506-4eeb-4549-c6a6-af4e7107c4b0"
      },
      "id": "_FWJTe2HzZdW",
      "execution_count": 21,
      "outputs": [
        {
          "output_type": "execute_result",
          "data": {
            "text/plain": [
              "(150,)"
            ]
          },
          "metadata": {},
          "execution_count": 21
        }
      ]
    },
    {
      "cell_type": "code",
      "source": [
        "X.shape , y.shape"
      ],
      "metadata": {
        "colab": {
          "base_uri": "https://localhost:8080/"
        },
        "id": "6cy-A-xerz1F",
        "outputId": "3f38adb7-0eff-47ee-bba2-c5cf1ad0ddd2"
      },
      "id": "6cy-A-xerz1F",
      "execution_count": 24,
      "outputs": [
        {
          "output_type": "execute_result",
          "data": {
            "text/plain": [
              "((150, 768), (150,))"
            ]
          },
          "metadata": {},
          "execution_count": 24
        }
      ]
    },
    {
      "cell_type": "code",
      "source": [
        "rumors[\"category\"].unique()"
      ],
      "metadata": {
        "colab": {
          "base_uri": "https://localhost:8080/"
        },
        "id": "Bj_XnaV0rz7b",
        "outputId": "29444e52-7ccd-464a-9e8f-d3e36054b551"
      },
      "id": "Bj_XnaV0rz7b",
      "execution_count": null,
      "outputs": [
        {
          "output_type": "execute_result",
          "data": {
            "text/plain": [
              "array(['politics', 'health', 'sports'], dtype=object)"
            ]
          },
          "metadata": {},
          "execution_count": 149
        }
      ]
    },
    {
      "cell_type": "code",
      "source": [
        "from sklearn.model_selection import train_test_split\n",
        "from sklearn.svm import SVC\n",
        "from sklearn.metrics import accuracy_score\n",
        "from sklearn.preprocessing import OneHotEncoder"
      ],
      "metadata": {
        "id": "7Vlw98XOrz-5"
      },
      "id": "7Vlw98XOrz-5",
      "execution_count": 35,
      "outputs": []
    },
    {
      "cell_type": "code",
      "source": [
        "clf = SVC(kernel='linear')"
      ],
      "metadata": {
        "id": "ahLTkBjwr0B-"
      },
      "id": "ahLTkBjwr0B-",
      "execution_count": 36,
      "outputs": []
    },
    {
      "cell_type": "code",
      "source": [
        "# encoder = OneHotEncoder(sparse=False)\n",
        "# y = encoder.fit_transform(np.array(rumors[\"category\"]).reshape(-1, 1))\n",
        "# y.shape"
      ],
      "metadata": {
        "id": "uLgmYKh9vbSB"
      },
      "id": "uLgmYKh9vbSB",
      "execution_count": null,
      "outputs": []
    },
    {
      "cell_type": "code",
      "source": [
        "X_train , y_train = X[:120] , y[:120]\n",
        "X_test , y_test = X[120:] , y[120:]\n",
        "\n",
        "X_train.shape , y_train.shape , X_test.shape , y_test.shape"
      ],
      "metadata": {
        "colab": {
          "base_uri": "https://localhost:8080/"
        },
        "id": "WWrt0Bdjr0Fw",
        "outputId": "3aa7be17-4a61-4200-db48-39e47d2c71f4"
      },
      "id": "WWrt0Bdjr0Fw",
      "execution_count": 37,
      "outputs": [
        {
          "output_type": "execute_result",
          "data": {
            "text/plain": [
              "((120, 768), (120,), (30, 768), (30,))"
            ]
          },
          "metadata": {},
          "execution_count": 37
        }
      ]
    },
    {
      "cell_type": "code",
      "source": [
        "data_train = list(zip(X_train, y_train))\n",
        "\n",
        "np.random.shuffle(data_train)\n",
        "\n",
        "X_train, y_train = zip(*data_train)\n",
        "\n",
        "X_train = np.array(X_train)\n",
        "y_train = np.array(y_train)\n",
        "\n",
        "X_train.shape , y_train.shape"
      ],
      "metadata": {
        "colab": {
          "base_uri": "https://localhost:8080/"
        },
        "id": "cdVkhfGr1aa6",
        "outputId": "a8047f72-62af-47a4-af46-bd7089682aa6"
      },
      "id": "cdVkhfGr1aa6",
      "execution_count": 38,
      "outputs": [
        {
          "output_type": "execute_result",
          "data": {
            "text/plain": [
              "((120, 768), (120,))"
            ]
          },
          "metadata": {},
          "execution_count": 38
        }
      ]
    },
    {
      "cell_type": "code",
      "source": [
        "clf.fit(X_train, y_train)"
      ],
      "metadata": {
        "colab": {
          "base_uri": "https://localhost:8080/",
          "height": 75
        },
        "id": "LevJpepFv0jr",
        "outputId": "d00e5910-4f0b-4226-8fbf-f11a5c57cf64"
      },
      "id": "LevJpepFv0jr",
      "execution_count": 39,
      "outputs": [
        {
          "output_type": "execute_result",
          "data": {
            "text/plain": [
              "SVC(kernel='linear')"
            ],
            "text/html": [
              "<style>#sk-container-id-1 {color: black;background-color: white;}#sk-container-id-1 pre{padding: 0;}#sk-container-id-1 div.sk-toggleable {background-color: white;}#sk-container-id-1 label.sk-toggleable__label {cursor: pointer;display: block;width: 100%;margin-bottom: 0;padding: 0.3em;box-sizing: border-box;text-align: center;}#sk-container-id-1 label.sk-toggleable__label-arrow:before {content: \"▸\";float: left;margin-right: 0.25em;color: #696969;}#sk-container-id-1 label.sk-toggleable__label-arrow:hover:before {color: black;}#sk-container-id-1 div.sk-estimator:hover label.sk-toggleable__label-arrow:before {color: black;}#sk-container-id-1 div.sk-toggleable__content {max-height: 0;max-width: 0;overflow: hidden;text-align: left;background-color: #f0f8ff;}#sk-container-id-1 div.sk-toggleable__content pre {margin: 0.2em;color: black;border-radius: 0.25em;background-color: #f0f8ff;}#sk-container-id-1 input.sk-toggleable__control:checked~div.sk-toggleable__content {max-height: 200px;max-width: 100%;overflow: auto;}#sk-container-id-1 input.sk-toggleable__control:checked~label.sk-toggleable__label-arrow:before {content: \"▾\";}#sk-container-id-1 div.sk-estimator input.sk-toggleable__control:checked~label.sk-toggleable__label {background-color: #d4ebff;}#sk-container-id-1 div.sk-label input.sk-toggleable__control:checked~label.sk-toggleable__label {background-color: #d4ebff;}#sk-container-id-1 input.sk-hidden--visually {border: 0;clip: rect(1px 1px 1px 1px);clip: rect(1px, 1px, 1px, 1px);height: 1px;margin: -1px;overflow: hidden;padding: 0;position: absolute;width: 1px;}#sk-container-id-1 div.sk-estimator {font-family: monospace;background-color: #f0f8ff;border: 1px dotted black;border-radius: 0.25em;box-sizing: border-box;margin-bottom: 0.5em;}#sk-container-id-1 div.sk-estimator:hover {background-color: #d4ebff;}#sk-container-id-1 div.sk-parallel-item::after {content: \"\";width: 100%;border-bottom: 1px solid gray;flex-grow: 1;}#sk-container-id-1 div.sk-label:hover label.sk-toggleable__label {background-color: #d4ebff;}#sk-container-id-1 div.sk-serial::before {content: \"\";position: absolute;border-left: 1px solid gray;box-sizing: border-box;top: 0;bottom: 0;left: 50%;z-index: 0;}#sk-container-id-1 div.sk-serial {display: flex;flex-direction: column;align-items: center;background-color: white;padding-right: 0.2em;padding-left: 0.2em;position: relative;}#sk-container-id-1 div.sk-item {position: relative;z-index: 1;}#sk-container-id-1 div.sk-parallel {display: flex;align-items: stretch;justify-content: center;background-color: white;position: relative;}#sk-container-id-1 div.sk-item::before, #sk-container-id-1 div.sk-parallel-item::before {content: \"\";position: absolute;border-left: 1px solid gray;box-sizing: border-box;top: 0;bottom: 0;left: 50%;z-index: -1;}#sk-container-id-1 div.sk-parallel-item {display: flex;flex-direction: column;z-index: 1;position: relative;background-color: white;}#sk-container-id-1 div.sk-parallel-item:first-child::after {align-self: flex-end;width: 50%;}#sk-container-id-1 div.sk-parallel-item:last-child::after {align-self: flex-start;width: 50%;}#sk-container-id-1 div.sk-parallel-item:only-child::after {width: 0;}#sk-container-id-1 div.sk-dashed-wrapped {border: 1px dashed gray;margin: 0 0.4em 0.5em 0.4em;box-sizing: border-box;padding-bottom: 0.4em;background-color: white;}#sk-container-id-1 div.sk-label label {font-family: monospace;font-weight: bold;display: inline-block;line-height: 1.2em;}#sk-container-id-1 div.sk-label-container {text-align: center;}#sk-container-id-1 div.sk-container {/* jupyter's `normalize.less` sets `[hidden] { display: none; }` but bootstrap.min.css set `[hidden] { display: none !important; }` so we also need the `!important` here to be able to override the default hidden behavior on the sphinx rendered scikit-learn.org. See: https://github.com/scikit-learn/scikit-learn/issues/21755 */display: inline-block !important;position: relative;}#sk-container-id-1 div.sk-text-repr-fallback {display: none;}</style><div id=\"sk-container-id-1\" class=\"sk-top-container\"><div class=\"sk-text-repr-fallback\"><pre>SVC(kernel=&#x27;linear&#x27;)</pre><b>In a Jupyter environment, please rerun this cell to show the HTML representation or trust the notebook. <br />On GitHub, the HTML representation is unable to render, please try loading this page with nbviewer.org.</b></div><div class=\"sk-container\" hidden><div class=\"sk-item\"><div class=\"sk-estimator sk-toggleable\"><input class=\"sk-toggleable__control sk-hidden--visually\" id=\"sk-estimator-id-1\" type=\"checkbox\" checked><label for=\"sk-estimator-id-1\" class=\"sk-toggleable__label sk-toggleable__label-arrow\">SVC</label><div class=\"sk-toggleable__content\"><pre>SVC(kernel=&#x27;linear&#x27;)</pre></div></div></div></div></div>"
            ]
          },
          "metadata": {},
          "execution_count": 39
        }
      ]
    },
    {
      "cell_type": "code",
      "source": [
        "y_pred = clf.predict(X_test)\n",
        "acc = accuracy_score(y_test, y_pred)\n",
        "print(\"Test Accuracy: {:.2f}%\".format(acc*100))"
      ],
      "metadata": {
        "colab": {
          "base_uri": "https://localhost:8080/"
        },
        "id": "s_eEw9KIr0Ka",
        "outputId": "7f2fb606-0753-4a4d-bffc-8c774950cf41"
      },
      "id": "s_eEw9KIr0Ka",
      "execution_count": 40,
      "outputs": [
        {
          "output_type": "stream",
          "name": "stdout",
          "text": [
            "Test Accuracy: 80.00%\n"
          ]
        }
      ]
    },
    {
      "cell_type": "code",
      "source": [
        "i = 26                       #i = 7 ???\n",
        "print(dev_rumors[\"tweet_text\"][i])\n",
        "print(\"the actual one is : \" , dev_rumors[\"category\"][i])\n",
        "print(\"the predicted one is : \" , y_pred[i])"
      ],
      "metadata": {
        "colab": {
          "base_uri": "https://localhost:8080/"
        },
        "id": "q-6hqp_O4CUQ",
        "outputId": "0820d038-fc68-4540-a817-ab51e3b79c00"
      },
      "id": "q-6hqp_O4CUQ",
      "execution_count": 50,
      "outputs": [
        {
          "output_type": "stream",
          "name": "stdout",
          "text": [
            "Aprés l'exécution de 10 enfants palestiniens ; \n",
            "#Messi (ambassadeur de l'UNICEF) refuse de participer au matche contre Israël...\n",
            "\n",
            "كسفير لليونسيف،\n",
            "لا أستطيع أن ألعب مقابل ناس يقتلون الأطفال الأبرياء،\n",
            "يجب علينا إلغاء المباراه لأننا بشر قبل ان نكون لاعبي كرة قدم.\n",
            "\n",
            "#SheikhJarrah https://t.co/4hUIHMDXhO\n",
            "the actual one is :  sports\n",
            "the predicted one is :  health\n"
          ]
        }
      ]
    },
    {
      "cell_type": "code",
      "source": [
        "train_rumors[\"category\"].value_counts()"
      ],
      "metadata": {
        "colab": {
          "base_uri": "https://localhost:8080/"
        },
        "id": "uoYlAtJK-dvN",
        "outputId": "a067f73c-f74e-4318-df4b-d2654817a034"
      },
      "id": "uoYlAtJK-dvN",
      "execution_count": 51,
      "outputs": [
        {
          "output_type": "execute_result",
          "data": {
            "text/plain": [
              "politics    40\n",
              "health      40\n",
              "sports      40\n",
              "Name: category, dtype: int64"
            ]
          },
          "metadata": {},
          "execution_count": 51
        }
      ]
    },
    {
      "cell_type": "code",
      "source": [
        "(y_pred == dev_rumors[\"category\"])"
      ],
      "metadata": {
        "colab": {
          "base_uri": "https://localhost:8080/"
        },
        "id": "H31R_3PA35N2",
        "outputId": "0977f77e-d63a-467b-8c01-c94526f04427"
      },
      "id": "H31R_3PA35N2",
      "execution_count": 43,
      "outputs": [
        {
          "output_type": "execute_result",
          "data": {
            "text/plain": [
              "0      True\n",
              "1      True\n",
              "2      True\n",
              "3      True\n",
              "4     False\n",
              "5     False\n",
              "6      True\n",
              "7     False\n",
              "8     False\n",
              "9      True\n",
              "10     True\n",
              "11     True\n",
              "12     True\n",
              "13     True\n",
              "14     True\n",
              "15     True\n",
              "16     True\n",
              "17     True\n",
              "18    False\n",
              "19     True\n",
              "20     True\n",
              "21     True\n",
              "22     True\n",
              "23     True\n",
              "24     True\n",
              "25     True\n",
              "26    False\n",
              "27     True\n",
              "28     True\n",
              "29     True\n",
              "Name: category, dtype: bool"
            ]
          },
          "metadata": {},
          "execution_count": 43
        }
      ]
    },
    {
      "cell_type": "code",
      "source": [],
      "metadata": {
        "id": "0jUDhRGX4_Ux"
      },
      "id": "0jUDhRGX4_Ux",
      "execution_count": null,
      "outputs": []
    },
    {
      "cell_type": "code",
      "source": [
        "from tensorflow import keras\n",
        "from tensorflow.keras import layers\n",
        "\n",
        "# define the input shape\n",
        "input_shape = (768,)\n",
        "\n",
        "# create the model\n",
        "model = keras.Sequential([\n",
        "    layers.Dense(256, activation='relu', input_shape=input_shape),\n",
        "    layers.Dropout(0.3),\n",
        "    layers.Dense(128, activation='relu'),\n",
        "    layers.Dropout(0.3),\n",
        "    layers.Dense(3, activation='softmax')\n",
        "])\n",
        "\n",
        "# compile the model\n",
        "model.compile(optimizer='adam', loss='categorical_crossentropy', metrics=['accuracy'])\n",
        "\n",
        "# train the model\n",
        "model.fit(X_train, y_train, epochs=100, batch_size=32, validation_split=0.2)\n"
      ],
      "metadata": {
        "colab": {
          "base_uri": "https://localhost:8080/"
        },
        "id": "-daLdwXz4_bZ",
        "outputId": "088782e9-5128-4758-d08e-a4017dad9847"
      },
      "id": "-daLdwXz4_bZ",
      "execution_count": null,
      "outputs": [
        {
          "output_type": "stream",
          "name": "stdout",
          "text": [
            "Epoch 1/100\n",
            "3/3 [==============================] - 2s 188ms/step - loss: 1.9216 - accuracy: 0.3646 - val_loss: 1.4019 - val_accuracy: 0.3750\n",
            "Epoch 2/100\n",
            "3/3 [==============================] - 0s 51ms/step - loss: 1.3267 - accuracy: 0.3958 - val_loss: 1.2170 - val_accuracy: 0.3750\n",
            "Epoch 3/100\n",
            "3/3 [==============================] - 0s 47ms/step - loss: 1.2732 - accuracy: 0.4271 - val_loss: 0.9699 - val_accuracy: 0.5417\n",
            "Epoch 4/100\n",
            "3/3 [==============================] - 0s 44ms/step - loss: 0.9014 - accuracy: 0.5729 - val_loss: 0.8591 - val_accuracy: 0.5833\n",
            "Epoch 5/100\n",
            "3/3 [==============================] - 0s 36ms/step - loss: 0.8465 - accuracy: 0.5833 - val_loss: 0.8430 - val_accuracy: 0.5000\n",
            "Epoch 6/100\n",
            "3/3 [==============================] - 0s 45ms/step - loss: 0.7756 - accuracy: 0.6875 - val_loss: 0.8177 - val_accuracy: 0.6250\n",
            "Epoch 7/100\n",
            "3/3 [==============================] - 0s 47ms/step - loss: 0.8538 - accuracy: 0.6562 - val_loss: 0.8695 - val_accuracy: 0.6667\n",
            "Epoch 8/100\n",
            "3/3 [==============================] - 0s 37ms/step - loss: 0.7209 - accuracy: 0.6771 - val_loss: 0.8428 - val_accuracy: 0.6250\n",
            "Epoch 9/100\n",
            "3/3 [==============================] - 0s 37ms/step - loss: 0.7753 - accuracy: 0.6458 - val_loss: 0.7752 - val_accuracy: 0.6667\n",
            "Epoch 10/100\n",
            "3/3 [==============================] - 0s 43ms/step - loss: 0.6675 - accuracy: 0.7188 - val_loss: 0.7528 - val_accuracy: 0.7083\n",
            "Epoch 11/100\n",
            "3/3 [==============================] - 0s 47ms/step - loss: 0.5936 - accuracy: 0.7500 - val_loss: 0.6925 - val_accuracy: 0.7500\n",
            "Epoch 12/100\n",
            "3/3 [==============================] - 0s 50ms/step - loss: 0.4848 - accuracy: 0.8333 - val_loss: 0.6514 - val_accuracy: 0.7083\n",
            "Epoch 13/100\n",
            "3/3 [==============================] - 0s 52ms/step - loss: 0.5123 - accuracy: 0.8542 - val_loss: 0.6031 - val_accuracy: 0.7500\n",
            "Epoch 14/100\n",
            "3/3 [==============================] - 0s 43ms/step - loss: 0.4286 - accuracy: 0.8958 - val_loss: 0.6088 - val_accuracy: 0.7500\n",
            "Epoch 15/100\n",
            "3/3 [==============================] - 0s 45ms/step - loss: 0.4612 - accuracy: 0.8438 - val_loss: 0.5317 - val_accuracy: 0.8333\n",
            "Epoch 16/100\n",
            "3/3 [==============================] - 0s 44ms/step - loss: 0.3897 - accuracy: 0.8750 - val_loss: 0.4554 - val_accuracy: 0.8750\n",
            "Epoch 17/100\n",
            "3/3 [==============================] - 0s 40ms/step - loss: 0.3784 - accuracy: 0.8542 - val_loss: 0.4884 - val_accuracy: 0.8333\n",
            "Epoch 18/100\n",
            "3/3 [==============================] - 0s 44ms/step - loss: 0.3700 - accuracy: 0.8854 - val_loss: 0.5774 - val_accuracy: 0.7083\n",
            "Epoch 19/100\n",
            "3/3 [==============================] - 0s 37ms/step - loss: 0.3636 - accuracy: 0.8542 - val_loss: 0.4097 - val_accuracy: 0.8750\n",
            "Epoch 20/100\n",
            "3/3 [==============================] - 0s 34ms/step - loss: 0.2896 - accuracy: 0.9062 - val_loss: 0.4352 - val_accuracy: 0.7917\n",
            "Epoch 21/100\n",
            "3/3 [==============================] - 0s 42ms/step - loss: 0.2501 - accuracy: 0.9271 - val_loss: 0.5987 - val_accuracy: 0.7083\n",
            "Epoch 22/100\n",
            "3/3 [==============================] - 0s 45ms/step - loss: 0.2570 - accuracy: 0.8958 - val_loss: 0.5441 - val_accuracy: 0.7917\n",
            "Epoch 23/100\n",
            "3/3 [==============================] - 0s 37ms/step - loss: 0.2139 - accuracy: 0.9583 - val_loss: 0.4507 - val_accuracy: 0.8333\n",
            "Epoch 24/100\n",
            "3/3 [==============================] - 0s 34ms/step - loss: 0.2793 - accuracy: 0.8958 - val_loss: 0.4279 - val_accuracy: 0.8333\n",
            "Epoch 25/100\n",
            "3/3 [==============================] - 0s 40ms/step - loss: 0.1825 - accuracy: 0.9583 - val_loss: 0.5537 - val_accuracy: 0.7500\n",
            "Epoch 26/100\n",
            "3/3 [==============================] - 0s 37ms/step - loss: 0.1703 - accuracy: 0.9583 - val_loss: 0.4859 - val_accuracy: 0.7917\n",
            "Epoch 27/100\n",
            "3/3 [==============================] - 0s 42ms/step - loss: 0.1334 - accuracy: 0.9583 - val_loss: 0.3527 - val_accuracy: 0.9167\n",
            "Epoch 28/100\n",
            "3/3 [==============================] - 0s 43ms/step - loss: 0.1740 - accuracy: 0.9375 - val_loss: 0.3597 - val_accuracy: 0.9167\n",
            "Epoch 29/100\n",
            "3/3 [==============================] - 0s 45ms/step - loss: 0.1000 - accuracy: 0.9792 - val_loss: 0.5249 - val_accuracy: 0.7917\n",
            "Epoch 30/100\n",
            "3/3 [==============================] - 0s 39ms/step - loss: 0.1592 - accuracy: 0.9583 - val_loss: 0.3853 - val_accuracy: 0.9167\n",
            "Epoch 31/100\n",
            "3/3 [==============================] - 0s 53ms/step - loss: 0.1187 - accuracy: 0.9583 - val_loss: 0.3951 - val_accuracy: 0.8333\n",
            "Epoch 32/100\n",
            "3/3 [==============================] - 0s 72ms/step - loss: 0.1222 - accuracy: 0.9688 - val_loss: 0.4776 - val_accuracy: 0.8333\n",
            "Epoch 33/100\n",
            "3/3 [==============================] - 0s 69ms/step - loss: 0.1013 - accuracy: 0.9583 - val_loss: 0.4630 - val_accuracy: 0.8333\n",
            "Epoch 34/100\n",
            "3/3 [==============================] - 0s 46ms/step - loss: 0.0982 - accuracy: 0.9792 - val_loss: 0.4473 - val_accuracy: 0.8333\n",
            "Epoch 35/100\n",
            "3/3 [==============================] - 0s 42ms/step - loss: 0.1034 - accuracy: 0.9792 - val_loss: 0.3431 - val_accuracy: 0.9167\n",
            "Epoch 36/100\n",
            "3/3 [==============================] - 0s 63ms/step - loss: 0.0990 - accuracy: 0.9792 - val_loss: 0.4309 - val_accuracy: 0.7917\n",
            "Epoch 37/100\n",
            "3/3 [==============================] - 0s 75ms/step - loss: 0.0963 - accuracy: 0.9896 - val_loss: 0.3394 - val_accuracy: 0.8750\n",
            "Epoch 38/100\n",
            "3/3 [==============================] - 0s 70ms/step - loss: 0.0472 - accuracy: 0.9896 - val_loss: 0.3516 - val_accuracy: 0.9583\n",
            "Epoch 39/100\n",
            "3/3 [==============================] - 0s 85ms/step - loss: 0.1004 - accuracy: 0.9688 - val_loss: 0.3903 - val_accuracy: 0.8750\n",
            "Epoch 40/100\n",
            "3/3 [==============================] - 0s 77ms/step - loss: 0.0869 - accuracy: 0.9896 - val_loss: 0.4411 - val_accuracy: 0.7917\n",
            "Epoch 41/100\n",
            "3/3 [==============================] - 0s 51ms/step - loss: 0.0476 - accuracy: 0.9896 - val_loss: 0.3091 - val_accuracy: 0.9167\n",
            "Epoch 42/100\n",
            "3/3 [==============================] - 0s 82ms/step - loss: 0.0472 - accuracy: 1.0000 - val_loss: 0.3317 - val_accuracy: 0.9167\n",
            "Epoch 43/100\n",
            "3/3 [==============================] - 0s 66ms/step - loss: 0.0416 - accuracy: 0.9896 - val_loss: 0.3939 - val_accuracy: 0.8333\n",
            "Epoch 44/100\n",
            "3/3 [==============================] - 0s 96ms/step - loss: 0.0631 - accuracy: 0.9688 - val_loss: 0.4668 - val_accuracy: 0.8333\n",
            "Epoch 45/100\n",
            "3/3 [==============================] - 0s 69ms/step - loss: 0.0308 - accuracy: 1.0000 - val_loss: 0.4221 - val_accuracy: 0.8333\n",
            "Epoch 46/100\n",
            "3/3 [==============================] - 0s 47ms/step - loss: 0.0219 - accuracy: 1.0000 - val_loss: 0.4135 - val_accuracy: 0.9167\n",
            "Epoch 47/100\n",
            "3/3 [==============================] - 0s 70ms/step - loss: 0.0272 - accuracy: 1.0000 - val_loss: 0.4653 - val_accuracy: 0.8333\n",
            "Epoch 48/100\n",
            "3/3 [==============================] - 0s 84ms/step - loss: 0.0264 - accuracy: 0.9896 - val_loss: 0.5640 - val_accuracy: 0.7917\n",
            "Epoch 49/100\n",
            "3/3 [==============================] - 0s 53ms/step - loss: 0.0405 - accuracy: 0.9792 - val_loss: 0.4564 - val_accuracy: 0.8333\n",
            "Epoch 50/100\n",
            "3/3 [==============================] - 0s 55ms/step - loss: 0.0233 - accuracy: 1.0000 - val_loss: 0.3960 - val_accuracy: 0.8750\n",
            "Epoch 51/100\n",
            "3/3 [==============================] - 0s 69ms/step - loss: 0.0290 - accuracy: 1.0000 - val_loss: 0.4129 - val_accuracy: 0.8333\n",
            "Epoch 52/100\n",
            "3/3 [==============================] - 0s 117ms/step - loss: 0.0252 - accuracy: 1.0000 - val_loss: 0.4184 - val_accuracy: 0.8333\n",
            "Epoch 53/100\n",
            "3/3 [==============================] - 0s 136ms/step - loss: 0.0117 - accuracy: 1.0000 - val_loss: 0.3900 - val_accuracy: 0.8750\n",
            "Epoch 54/100\n",
            "3/3 [==============================] - 0s 122ms/step - loss: 0.0106 - accuracy: 1.0000 - val_loss: 0.3890 - val_accuracy: 0.8750\n",
            "Epoch 55/100\n",
            "3/3 [==============================] - 0s 67ms/step - loss: 0.0184 - accuracy: 1.0000 - val_loss: 0.4447 - val_accuracy: 0.8750\n",
            "Epoch 56/100\n",
            "3/3 [==============================] - 0s 80ms/step - loss: 0.0149 - accuracy: 1.0000 - val_loss: 0.4684 - val_accuracy: 0.8750\n",
            "Epoch 57/100\n",
            "3/3 [==============================] - 0s 96ms/step - loss: 0.0268 - accuracy: 0.9792 - val_loss: 0.3976 - val_accuracy: 0.8750\n",
            "Epoch 58/100\n",
            "3/3 [==============================] - 0s 90ms/step - loss: 0.0320 - accuracy: 1.0000 - val_loss: 0.3976 - val_accuracy: 0.8750\n",
            "Epoch 59/100\n",
            "3/3 [==============================] - 0s 71ms/step - loss: 0.0177 - accuracy: 1.0000 - val_loss: 0.4766 - val_accuracy: 0.8333\n",
            "Epoch 60/100\n",
            "3/3 [==============================] - 0s 69ms/step - loss: 0.0273 - accuracy: 0.9896 - val_loss: 0.5337 - val_accuracy: 0.8333\n",
            "Epoch 61/100\n",
            "3/3 [==============================] - 0s 96ms/step - loss: 0.0154 - accuracy: 1.0000 - val_loss: 0.5765 - val_accuracy: 0.8333\n",
            "Epoch 62/100\n",
            "3/3 [==============================] - 0s 71ms/step - loss: 0.0077 - accuracy: 1.0000 - val_loss: 0.5949 - val_accuracy: 0.7917\n",
            "Epoch 63/100\n",
            "3/3 [==============================] - 0s 74ms/step - loss: 0.0159 - accuracy: 1.0000 - val_loss: 0.6169 - val_accuracy: 0.7917\n",
            "Epoch 64/100\n",
            "3/3 [==============================] - 0s 55ms/step - loss: 0.0285 - accuracy: 0.9896 - val_loss: 0.6129 - val_accuracy: 0.8333\n",
            "Epoch 65/100\n",
            "3/3 [==============================] - 0s 89ms/step - loss: 0.0091 - accuracy: 1.0000 - val_loss: 0.5285 - val_accuracy: 0.8750\n",
            "Epoch 66/100\n",
            "3/3 [==============================] - 0s 95ms/step - loss: 0.0108 - accuracy: 1.0000 - val_loss: 0.5159 - val_accuracy: 0.9167\n",
            "Epoch 67/100\n",
            "3/3 [==============================] - 0s 130ms/step - loss: 0.0103 - accuracy: 1.0000 - val_loss: 0.5849 - val_accuracy: 0.7917\n",
            "Epoch 68/100\n",
            "3/3 [==============================] - 0s 72ms/step - loss: 0.0067 - accuracy: 1.0000 - val_loss: 0.6601 - val_accuracy: 0.7917\n",
            "Epoch 69/100\n",
            "3/3 [==============================] - 0s 69ms/step - loss: 0.0089 - accuracy: 1.0000 - val_loss: 0.6721 - val_accuracy: 0.7917\n",
            "Epoch 70/100\n",
            "3/3 [==============================] - 0s 68ms/step - loss: 0.0087 - accuracy: 1.0000 - val_loss: 0.6609 - val_accuracy: 0.7917\n",
            "Epoch 71/100\n",
            "3/3 [==============================] - 0s 56ms/step - loss: 0.0201 - accuracy: 1.0000 - val_loss: 0.7008 - val_accuracy: 0.7917\n",
            "Epoch 72/100\n",
            "3/3 [==============================] - 0s 69ms/step - loss: 0.0067 - accuracy: 1.0000 - val_loss: 0.6642 - val_accuracy: 0.7917\n",
            "Epoch 73/100\n",
            "3/3 [==============================] - 0s 74ms/step - loss: 0.0098 - accuracy: 1.0000 - val_loss: 0.5897 - val_accuracy: 0.7917\n",
            "Epoch 74/100\n",
            "3/3 [==============================] - 0s 78ms/step - loss: 0.0094 - accuracy: 1.0000 - val_loss: 0.5882 - val_accuracy: 0.8333\n",
            "Epoch 75/100\n",
            "3/3 [==============================] - 0s 69ms/step - loss: 0.0070 - accuracy: 1.0000 - val_loss: 0.6491 - val_accuracy: 0.7917\n",
            "Epoch 76/100\n",
            "3/3 [==============================] - 0s 79ms/step - loss: 0.0091 - accuracy: 1.0000 - val_loss: 0.6651 - val_accuracy: 0.7917\n",
            "Epoch 77/100\n",
            "3/3 [==============================] - 0s 75ms/step - loss: 0.0032 - accuracy: 1.0000 - val_loss: 0.6487 - val_accuracy: 0.8333\n",
            "Epoch 78/100\n",
            "3/3 [==============================] - 0s 70ms/step - loss: 0.0100 - accuracy: 1.0000 - val_loss: 0.6301 - val_accuracy: 0.8333\n",
            "Epoch 79/100\n",
            "3/3 [==============================] - 0s 69ms/step - loss: 0.0052 - accuracy: 1.0000 - val_loss: 0.5970 - val_accuracy: 0.8333\n",
            "Epoch 80/100\n",
            "3/3 [==============================] - 0s 77ms/step - loss: 0.0037 - accuracy: 1.0000 - val_loss: 0.5643 - val_accuracy: 0.8333\n",
            "Epoch 81/100\n",
            "3/3 [==============================] - 0s 60ms/step - loss: 0.0028 - accuracy: 1.0000 - val_loss: 0.5507 - val_accuracy: 0.8333\n",
            "Epoch 82/100\n",
            "3/3 [==============================] - 0s 67ms/step - loss: 0.0060 - accuracy: 1.0000 - val_loss: 0.5776 - val_accuracy: 0.8333\n",
            "Epoch 83/100\n",
            "3/3 [==============================] - 0s 58ms/step - loss: 0.0142 - accuracy: 1.0000 - val_loss: 0.6453 - val_accuracy: 0.7917\n",
            "Epoch 84/100\n",
            "3/3 [==============================] - 0s 74ms/step - loss: 0.0096 - accuracy: 1.0000 - val_loss: 0.6188 - val_accuracy: 0.7917\n",
            "Epoch 85/100\n",
            "3/3 [==============================] - 0s 66ms/step - loss: 0.0046 - accuracy: 1.0000 - val_loss: 0.5956 - val_accuracy: 0.8333\n",
            "Epoch 86/100\n",
            "3/3 [==============================] - 0s 68ms/step - loss: 0.0107 - accuracy: 1.0000 - val_loss: 0.6699 - val_accuracy: 0.8333\n",
            "Epoch 87/100\n",
            "3/3 [==============================] - 0s 75ms/step - loss: 0.0055 - accuracy: 1.0000 - val_loss: 0.7379 - val_accuracy: 0.8333\n",
            "Epoch 88/100\n",
            "3/3 [==============================] - 0s 78ms/step - loss: 0.0090 - accuracy: 1.0000 - val_loss: 0.7281 - val_accuracy: 0.8333\n",
            "Epoch 89/100\n",
            "3/3 [==============================] - 0s 87ms/step - loss: 0.0048 - accuracy: 1.0000 - val_loss: 0.6859 - val_accuracy: 0.8333\n",
            "Epoch 90/100\n",
            "3/3 [==============================] - 0s 69ms/step - loss: 0.0021 - accuracy: 1.0000 - val_loss: 0.6642 - val_accuracy: 0.8333\n",
            "Epoch 91/100\n",
            "3/3 [==============================] - 0s 68ms/step - loss: 0.0117 - accuracy: 1.0000 - val_loss: 0.6577 - val_accuracy: 0.8333\n",
            "Epoch 92/100\n",
            "3/3 [==============================] - 0s 52ms/step - loss: 0.0035 - accuracy: 1.0000 - val_loss: 0.6754 - val_accuracy: 0.8333\n",
            "Epoch 93/100\n",
            "3/3 [==============================] - 0s 43ms/step - loss: 0.0058 - accuracy: 1.0000 - val_loss: 0.7013 - val_accuracy: 0.8333\n",
            "Epoch 94/100\n",
            "3/3 [==============================] - 0s 48ms/step - loss: 0.0079 - accuracy: 1.0000 - val_loss: 0.7200 - val_accuracy: 0.8333\n",
            "Epoch 95/100\n",
            "3/3 [==============================] - 0s 42ms/step - loss: 0.0050 - accuracy: 1.0000 - val_loss: 0.7122 - val_accuracy: 0.8333\n",
            "Epoch 96/100\n",
            "3/3 [==============================] - 0s 42ms/step - loss: 0.0069 - accuracy: 1.0000 - val_loss: 0.7354 - val_accuracy: 0.8333\n",
            "Epoch 97/100\n",
            "3/3 [==============================] - 0s 34ms/step - loss: 0.0055 - accuracy: 1.0000 - val_loss: 0.8030 - val_accuracy: 0.7917\n",
            "Epoch 98/100\n",
            "3/3 [==============================] - 0s 49ms/step - loss: 0.0056 - accuracy: 1.0000 - val_loss: 0.8683 - val_accuracy: 0.7917\n",
            "Epoch 99/100\n",
            "3/3 [==============================] - 0s 45ms/step - loss: 0.0022 - accuracy: 1.0000 - val_loss: 0.8557 - val_accuracy: 0.7917\n",
            "Epoch 100/100\n",
            "3/3 [==============================] - 0s 43ms/step - loss: 0.0067 - accuracy: 1.0000 - val_loss: 0.7163 - val_accuracy: 0.8333\n"
          ]
        },
        {
          "output_type": "execute_result",
          "data": {
            "text/plain": [
              "<keras.callbacks.History at 0x7f994fb3b640>"
            ]
          },
          "metadata": {},
          "execution_count": 136
        }
      ]
    },
    {
      "cell_type": "code",
      "source": [
        "# from sklearn.metrics import classification_report\n",
        "# from keras.utils import to_categorical\n",
        "\n",
        "# y_train_onehot = to_categorical(y_train)\n",
        "# y_test_onehot = to_categorical(y_test)\n",
        "# # Get the predicted class probabilities on test set\n",
        "# y_pred_prob = model.predict(X_test)\n",
        "\n",
        "# # Get the predicted class for each sample in test set\n",
        "# y_pred = np.argmax(y_pred_prob, axis=1)\n",
        "\n",
        "# # Print classification report\n",
        "# print(classification_report(y_test, y_pred, target_names=['politics', 'health', 'sports']))\n",
        "\n",
        "# # Print confusion matrix\n",
        "# print(confusion_matrix(y_test, y_pred))"
      ],
      "metadata": {
        "id": "2fix9Mwm4_es"
      },
      "id": "2fix9Mwm4_es",
      "execution_count": null,
      "outputs": []
    },
    {
      "cell_type": "code",
      "source": [],
      "metadata": {
        "id": "Z0uAAEQx4_pO"
      },
      "id": "Z0uAAEQx4_pO",
      "execution_count": null,
      "outputs": []
    },
    {
      "cell_type": "code",
      "source": [],
      "metadata": {
        "id": "PbDtwqYo4_ru"
      },
      "id": "PbDtwqYo4_ru",
      "execution_count": null,
      "outputs": []
    },
    {
      "cell_type": "code",
      "source": [],
      "metadata": {
        "id": "bkLVnXI94_ui"
      },
      "id": "bkLVnXI94_ui",
      "execution_count": null,
      "outputs": []
    },
    {
      "cell_type": "code",
      "source": [],
      "metadata": {
        "id": "YqzpEJji4_0d"
      },
      "id": "YqzpEJji4_0d",
      "execution_count": null,
      "outputs": []
    },
    {
      "cell_type": "code",
      "source": [],
      "metadata": {
        "id": "Km5eM81k4_22"
      },
      "id": "Km5eM81k4_22",
      "execution_count": null,
      "outputs": []
    },
    {
      "cell_type": "code",
      "source": [],
      "metadata": {
        "id": "OWF3cNWh4_5R"
      },
      "id": "OWF3cNWh4_5R",
      "execution_count": null,
      "outputs": []
    },
    {
      "cell_type": "code",
      "source": [],
      "metadata": {
        "id": "cMi-ZZWv4_7y"
      },
      "id": "cMi-ZZWv4_7y",
      "execution_count": null,
      "outputs": []
    },
    {
      "cell_type": "code",
      "source": [],
      "metadata": {
        "id": "8BOXALRx5ABN"
      },
      "id": "8BOXALRx5ABN",
      "execution_count": null,
      "outputs": []
    },
    {
      "cell_type": "code",
      "source": [],
      "metadata": {
        "id": "TSn-g5QK5ADl"
      },
      "id": "TSn-g5QK5ADl",
      "execution_count": null,
      "outputs": []
    },
    {
      "cell_type": "code",
      "source": [],
      "metadata": {
        "id": "Ini3Uyuf5AJI"
      },
      "id": "Ini3Uyuf5AJI",
      "execution_count": null,
      "outputs": []
    },
    {
      "cell_type": "code",
      "source": [],
      "metadata": {
        "id": "MxicpQh55ALS"
      },
      "id": "MxicpQh55ALS",
      "execution_count": null,
      "outputs": []
    },
    {
      "cell_type": "code",
      "source": [],
      "metadata": {
        "id": "I5Tz-LfU5ARr"
      },
      "id": "I5Tz-LfU5ARr",
      "execution_count": null,
      "outputs": []
    },
    {
      "cell_type": "code",
      "source": [],
      "metadata": {
        "id": "hVHJKZrg5AV9"
      },
      "id": "hVHJKZrg5AV9",
      "execution_count": null,
      "outputs": []
    },
    {
      "cell_type": "code",
      "source": [],
      "metadata": {
        "id": "sDxn9TfH5AYU"
      },
      "id": "sDxn9TfH5AYU",
      "execution_count": null,
      "outputs": []
    },
    {
      "cell_type": "code",
      "execution_count": null,
      "id": "a8f3cb71",
      "metadata": {
        "colab": {
          "base_uri": "https://localhost:8080/"
        },
        "id": "a8f3cb71",
        "outputId": "5010e562-fe37-4b11-cc64-4f73bb1c9b93"
      },
      "outputs": [
        {
          "output_type": "execute_result",
          "data": {
            "text/plain": [
              "tensor([[    2,     1,   306,  1564, 27997,  1146, 44899, 21095,     3]])"
            ]
          },
          "metadata": {},
          "execution_count": 44
        }
      ],
      "source": [
        "# Define sentence to encode\n",
        "sentence = \"مزيداً من الأنحدار نحو مستنقع التطبيع\"\n",
        "\n",
        "# Tokenize sentence and convert to tensor\n",
        "input_ids = torch.tensor(tokenizer.encode(sentence, add_special_tokens=True)).unsqueeze(0)\n",
        "\n",
        "input_ids"
      ]
    },
    {
      "cell_type": "code",
      "execution_count": null,
      "id": "1807a2ab",
      "metadata": {
        "colab": {
          "base_uri": "https://localhost:8080/"
        },
        "id": "1807a2ab",
        "outputId": "1d9acc27-df10-4155-b766-fc62a1b861fb"
      },
      "outputs": [
        {
          "output_type": "execute_result",
          "data": {
            "text/plain": [
              "[2, 1, 306, 1564, 27997, 1146, 44899, 21095, 3]"
            ]
          },
          "metadata": {},
          "execution_count": 45
        }
      ],
      "source": [
        "tokenizer.encode(sentence, add_special_tokens=True)"
      ]
    },
    {
      "cell_type": "code",
      "execution_count": null,
      "id": "3e7e5c74",
      "metadata": {
        "colab": {
          "base_uri": "https://localhost:8080/"
        },
        "id": "3e7e5c74",
        "outputId": "fd46aec8-9611-45a7-cd74-5a062babda48"
      },
      "outputs": [
        {
          "output_type": "execute_result",
          "data": {
            "text/plain": [
              "['[UNK]', 'من', 'الأن', '##حدار', 'نحو', 'مستنقع', 'التطبيع']"
            ]
          },
          "metadata": {},
          "execution_count": 46
        }
      ],
      "source": [
        "tokens = tokenizer.tokenize(sentence)\n",
        "tokens"
      ]
    },
    {
      "cell_type": "code",
      "execution_count": null,
      "id": "c43efa70",
      "metadata": {
        "colab": {
          "base_uri": "https://localhost:8080/"
        },
        "id": "c43efa70",
        "outputId": "56701954-4031-43d8-9671-f66b92fe860a"
      },
      "outputs": [
        {
          "output_type": "stream",
          "name": "stdout",
          "text": [
            "torch.Size([9, 768])\n"
          ]
        }
      ],
      "source": [
        "# Define sentence to encode\n",
        "sentence = \"مزيداً من الأنحدار نحو مستنقع التطبيع\"\n",
        "\n",
        "# Tokenize sentence and convert to tensor\n",
        "input_ids = torch.tensor(tokenizer.encode(sentence, add_special_tokens=True)).unsqueeze(0)\n",
        "\n",
        "# Get AraBERT embeddings for sentence\n",
        "with torch.no_grad():\n",
        "    outputs = model(input_ids)\n",
        "    embeddings = outputs[0].squeeze(0)\n",
        "\n",
        "# Print shape of embeddings tensor\n",
        "print(embeddings.shape)"
      ]
    },
    {
      "cell_type": "code",
      "execution_count": null,
      "id": "3ebf8141",
      "metadata": {
        "colab": {
          "base_uri": "https://localhost:8080/"
        },
        "id": "3ebf8141",
        "outputId": "5b551683-07ed-4a82-cd14-aa23be9127e6"
      },
      "outputs": [
        {
          "output_type": "execute_result",
          "data": {
            "text/plain": [
              "9"
            ]
          },
          "metadata": {},
          "execution_count": 48
        }
      ],
      "source": [
        "len(input_ids[0])"
      ]
    },
    {
      "cell_type": "code",
      "execution_count": null,
      "id": "543e44ca",
      "metadata": {
        "id": "543e44ca",
        "outputId": "eda90c15-05b9-4c90-864e-109d836739bf"
      },
      "outputs": [
        {
          "data": {
            "text/plain": [
              "tensor([[ 0.5837,  0.9553,  0.8053,  ...,  0.8516,  0.1081,  0.3716],\n",
              "        [ 0.8832,  2.3138,  0.0224,  ...,  0.9254, -2.0401, -0.2045],\n",
              "        [-0.9168,  1.4633, -0.2790,  ...,  1.3502, -1.3126,  0.1277],\n",
              "        ...,\n",
              "        [-1.0788,  1.8730, -0.5084,  ...,  1.0562,  1.1061, -0.0841],\n",
              "        [-0.1937, -0.0331,  0.2433,  ...,  0.9660,  0.1645, -0.1147],\n",
              "        [ 0.5724,  1.0386, -1.0001,  ...,  1.3528,  1.0083, -0.2576]])"
            ]
          },
          "execution_count": 81,
          "metadata": {},
          "output_type": "execute_result"
        }
      ],
      "source": [
        "embeddings"
      ]
    },
    {
      "cell_type": "code",
      "execution_count": null,
      "id": "e91e0466",
      "metadata": {
        "id": "e91e0466"
      },
      "outputs": [],
      "source": []
    }
  ],
  "metadata": {
    "kernelspec": {
      "display_name": "Python 3 (ipykernel)",
      "language": "python",
      "name": "python3"
    },
    "language_info": {
      "codemirror_mode": {
        "name": "ipython",
        "version": 3
      },
      "file_extension": ".py",
      "mimetype": "text/x-python",
      "name": "python",
      "nbconvert_exporter": "python",
      "pygments_lexer": "ipython3",
      "version": "3.10.4"
    },
    "colab": {
      "provenance": []
    },
    "widgets": {
      "application/vnd.jupyter.widget-state+json": {
        "a3ed7568b34a4dd4b90c5f7a4aade484": {
          "model_module": "@jupyter-widgets/controls",
          "model_name": "HBoxModel",
          "model_module_version": "1.5.0",
          "state": {
            "_dom_classes": [],
            "_model_module": "@jupyter-widgets/controls",
            "_model_module_version": "1.5.0",
            "_model_name": "HBoxModel",
            "_view_count": null,
            "_view_module": "@jupyter-widgets/controls",
            "_view_module_version": "1.5.0",
            "_view_name": "HBoxView",
            "box_style": "",
            "children": [
              "IPY_MODEL_4b93bd5f08ec4a99bd42b99ea0983f4e",
              "IPY_MODEL_e8a2c37403db40319d115484b08c8f11",
              "IPY_MODEL_35d32921786a4fe3979b36c491900351"
            ],
            "layout": "IPY_MODEL_373d1e840e0840ab84133f66b89a7d28"
          }
        },
        "4b93bd5f08ec4a99bd42b99ea0983f4e": {
          "model_module": "@jupyter-widgets/controls",
          "model_name": "HTMLModel",
          "model_module_version": "1.5.0",
          "state": {
            "_dom_classes": [],
            "_model_module": "@jupyter-widgets/controls",
            "_model_module_version": "1.5.0",
            "_model_name": "HTMLModel",
            "_view_count": null,
            "_view_module": "@jupyter-widgets/controls",
            "_view_module_version": "1.5.0",
            "_view_name": "HTMLView",
            "description": "",
            "description_tooltip": null,
            "layout": "IPY_MODEL_c092d52714e64619893a5943a6e6aba2",
            "placeholder": "​",
            "style": "IPY_MODEL_edd32310daa34f74a7ad6c74ea9febff",
            "value": "Downloading (…)okenizer_config.json: 100%"
          }
        },
        "e8a2c37403db40319d115484b08c8f11": {
          "model_module": "@jupyter-widgets/controls",
          "model_name": "FloatProgressModel",
          "model_module_version": "1.5.0",
          "state": {
            "_dom_classes": [],
            "_model_module": "@jupyter-widgets/controls",
            "_model_module_version": "1.5.0",
            "_model_name": "FloatProgressModel",
            "_view_count": null,
            "_view_module": "@jupyter-widgets/controls",
            "_view_module_version": "1.5.0",
            "_view_name": "ProgressView",
            "bar_style": "success",
            "description": "",
            "description_tooltip": null,
            "layout": "IPY_MODEL_900bd06edad24d4796b8009ce4e2525f",
            "max": 381,
            "min": 0,
            "orientation": "horizontal",
            "style": "IPY_MODEL_a196f1f40c784e2cbb83689da7d41c99",
            "value": 381
          }
        },
        "35d32921786a4fe3979b36c491900351": {
          "model_module": "@jupyter-widgets/controls",
          "model_name": "HTMLModel",
          "model_module_version": "1.5.0",
          "state": {
            "_dom_classes": [],
            "_model_module": "@jupyter-widgets/controls",
            "_model_module_version": "1.5.0",
            "_model_name": "HTMLModel",
            "_view_count": null,
            "_view_module": "@jupyter-widgets/controls",
            "_view_module_version": "1.5.0",
            "_view_name": "HTMLView",
            "description": "",
            "description_tooltip": null,
            "layout": "IPY_MODEL_3e7549771e7c49f7b4db78294385280e",
            "placeholder": "​",
            "style": "IPY_MODEL_b9530606d64640ea921aefe737782294",
            "value": " 381/381 [00:00&lt;00:00, 8.24kB/s]"
          }
        },
        "373d1e840e0840ab84133f66b89a7d28": {
          "model_module": "@jupyter-widgets/base",
          "model_name": "LayoutModel",
          "model_module_version": "1.2.0",
          "state": {
            "_model_module": "@jupyter-widgets/base",
            "_model_module_version": "1.2.0",
            "_model_name": "LayoutModel",
            "_view_count": null,
            "_view_module": "@jupyter-widgets/base",
            "_view_module_version": "1.2.0",
            "_view_name": "LayoutView",
            "align_content": null,
            "align_items": null,
            "align_self": null,
            "border": null,
            "bottom": null,
            "display": null,
            "flex": null,
            "flex_flow": null,
            "grid_area": null,
            "grid_auto_columns": null,
            "grid_auto_flow": null,
            "grid_auto_rows": null,
            "grid_column": null,
            "grid_gap": null,
            "grid_row": null,
            "grid_template_areas": null,
            "grid_template_columns": null,
            "grid_template_rows": null,
            "height": null,
            "justify_content": null,
            "justify_items": null,
            "left": null,
            "margin": null,
            "max_height": null,
            "max_width": null,
            "min_height": null,
            "min_width": null,
            "object_fit": null,
            "object_position": null,
            "order": null,
            "overflow": null,
            "overflow_x": null,
            "overflow_y": null,
            "padding": null,
            "right": null,
            "top": null,
            "visibility": null,
            "width": null
          }
        },
        "c092d52714e64619893a5943a6e6aba2": {
          "model_module": "@jupyter-widgets/base",
          "model_name": "LayoutModel",
          "model_module_version": "1.2.0",
          "state": {
            "_model_module": "@jupyter-widgets/base",
            "_model_module_version": "1.2.0",
            "_model_name": "LayoutModel",
            "_view_count": null,
            "_view_module": "@jupyter-widgets/base",
            "_view_module_version": "1.2.0",
            "_view_name": "LayoutView",
            "align_content": null,
            "align_items": null,
            "align_self": null,
            "border": null,
            "bottom": null,
            "display": null,
            "flex": null,
            "flex_flow": null,
            "grid_area": null,
            "grid_auto_columns": null,
            "grid_auto_flow": null,
            "grid_auto_rows": null,
            "grid_column": null,
            "grid_gap": null,
            "grid_row": null,
            "grid_template_areas": null,
            "grid_template_columns": null,
            "grid_template_rows": null,
            "height": null,
            "justify_content": null,
            "justify_items": null,
            "left": null,
            "margin": null,
            "max_height": null,
            "max_width": null,
            "min_height": null,
            "min_width": null,
            "object_fit": null,
            "object_position": null,
            "order": null,
            "overflow": null,
            "overflow_x": null,
            "overflow_y": null,
            "padding": null,
            "right": null,
            "top": null,
            "visibility": null,
            "width": null
          }
        },
        "edd32310daa34f74a7ad6c74ea9febff": {
          "model_module": "@jupyter-widgets/controls",
          "model_name": "DescriptionStyleModel",
          "model_module_version": "1.5.0",
          "state": {
            "_model_module": "@jupyter-widgets/controls",
            "_model_module_version": "1.5.0",
            "_model_name": "DescriptionStyleModel",
            "_view_count": null,
            "_view_module": "@jupyter-widgets/base",
            "_view_module_version": "1.2.0",
            "_view_name": "StyleView",
            "description_width": ""
          }
        },
        "900bd06edad24d4796b8009ce4e2525f": {
          "model_module": "@jupyter-widgets/base",
          "model_name": "LayoutModel",
          "model_module_version": "1.2.0",
          "state": {
            "_model_module": "@jupyter-widgets/base",
            "_model_module_version": "1.2.0",
            "_model_name": "LayoutModel",
            "_view_count": null,
            "_view_module": "@jupyter-widgets/base",
            "_view_module_version": "1.2.0",
            "_view_name": "LayoutView",
            "align_content": null,
            "align_items": null,
            "align_self": null,
            "border": null,
            "bottom": null,
            "display": null,
            "flex": null,
            "flex_flow": null,
            "grid_area": null,
            "grid_auto_columns": null,
            "grid_auto_flow": null,
            "grid_auto_rows": null,
            "grid_column": null,
            "grid_gap": null,
            "grid_row": null,
            "grid_template_areas": null,
            "grid_template_columns": null,
            "grid_template_rows": null,
            "height": null,
            "justify_content": null,
            "justify_items": null,
            "left": null,
            "margin": null,
            "max_height": null,
            "max_width": null,
            "min_height": null,
            "min_width": null,
            "object_fit": null,
            "object_position": null,
            "order": null,
            "overflow": null,
            "overflow_x": null,
            "overflow_y": null,
            "padding": null,
            "right": null,
            "top": null,
            "visibility": null,
            "width": null
          }
        },
        "a196f1f40c784e2cbb83689da7d41c99": {
          "model_module": "@jupyter-widgets/controls",
          "model_name": "ProgressStyleModel",
          "model_module_version": "1.5.0",
          "state": {
            "_model_module": "@jupyter-widgets/controls",
            "_model_module_version": "1.5.0",
            "_model_name": "ProgressStyleModel",
            "_view_count": null,
            "_view_module": "@jupyter-widgets/base",
            "_view_module_version": "1.2.0",
            "_view_name": "StyleView",
            "bar_color": null,
            "description_width": ""
          }
        },
        "3e7549771e7c49f7b4db78294385280e": {
          "model_module": "@jupyter-widgets/base",
          "model_name": "LayoutModel",
          "model_module_version": "1.2.0",
          "state": {
            "_model_module": "@jupyter-widgets/base",
            "_model_module_version": "1.2.0",
            "_model_name": "LayoutModel",
            "_view_count": null,
            "_view_module": "@jupyter-widgets/base",
            "_view_module_version": "1.2.0",
            "_view_name": "LayoutView",
            "align_content": null,
            "align_items": null,
            "align_self": null,
            "border": null,
            "bottom": null,
            "display": null,
            "flex": null,
            "flex_flow": null,
            "grid_area": null,
            "grid_auto_columns": null,
            "grid_auto_flow": null,
            "grid_auto_rows": null,
            "grid_column": null,
            "grid_gap": null,
            "grid_row": null,
            "grid_template_areas": null,
            "grid_template_columns": null,
            "grid_template_rows": null,
            "height": null,
            "justify_content": null,
            "justify_items": null,
            "left": null,
            "margin": null,
            "max_height": null,
            "max_width": null,
            "min_height": null,
            "min_width": null,
            "object_fit": null,
            "object_position": null,
            "order": null,
            "overflow": null,
            "overflow_x": null,
            "overflow_y": null,
            "padding": null,
            "right": null,
            "top": null,
            "visibility": null,
            "width": null
          }
        },
        "b9530606d64640ea921aefe737782294": {
          "model_module": "@jupyter-widgets/controls",
          "model_name": "DescriptionStyleModel",
          "model_module_version": "1.5.0",
          "state": {
            "_model_module": "@jupyter-widgets/controls",
            "_model_module_version": "1.5.0",
            "_model_name": "DescriptionStyleModel",
            "_view_count": null,
            "_view_module": "@jupyter-widgets/base",
            "_view_module_version": "1.2.0",
            "_view_name": "StyleView",
            "description_width": ""
          }
        },
        "005c65f0f59a4b1d9f15addd21156488": {
          "model_module": "@jupyter-widgets/controls",
          "model_name": "HBoxModel",
          "model_module_version": "1.5.0",
          "state": {
            "_dom_classes": [],
            "_model_module": "@jupyter-widgets/controls",
            "_model_module_version": "1.5.0",
            "_model_name": "HBoxModel",
            "_view_count": null,
            "_view_module": "@jupyter-widgets/controls",
            "_view_module_version": "1.5.0",
            "_view_name": "HBoxView",
            "box_style": "",
            "children": [
              "IPY_MODEL_1d44e6368a6743fe99be51ccdb62331d",
              "IPY_MODEL_1c7be13d41c644c1857b7146b4e988dc",
              "IPY_MODEL_7a15410394074ea2be089c7388128a52"
            ],
            "layout": "IPY_MODEL_5d0a5642d5d74ac58c2c5147b60b30a1"
          }
        },
        "1d44e6368a6743fe99be51ccdb62331d": {
          "model_module": "@jupyter-widgets/controls",
          "model_name": "HTMLModel",
          "model_module_version": "1.5.0",
          "state": {
            "_dom_classes": [],
            "_model_module": "@jupyter-widgets/controls",
            "_model_module_version": "1.5.0",
            "_model_name": "HTMLModel",
            "_view_count": null,
            "_view_module": "@jupyter-widgets/controls",
            "_view_module_version": "1.5.0",
            "_view_name": "HTMLView",
            "description": "",
            "description_tooltip": null,
            "layout": "IPY_MODEL_2be99b3a53b443738510029ab1bf5547",
            "placeholder": "​",
            "style": "IPY_MODEL_548d325dc8604366ac65b11176750ec1",
            "value": "Downloading (…)lve/main/config.json: 100%"
          }
        },
        "1c7be13d41c644c1857b7146b4e988dc": {
          "model_module": "@jupyter-widgets/controls",
          "model_name": "FloatProgressModel",
          "model_module_version": "1.5.0",
          "state": {
            "_dom_classes": [],
            "_model_module": "@jupyter-widgets/controls",
            "_model_module_version": "1.5.0",
            "_model_name": "FloatProgressModel",
            "_view_count": null,
            "_view_module": "@jupyter-widgets/controls",
            "_view_module_version": "1.5.0",
            "_view_name": "ProgressView",
            "bar_style": "success",
            "description": "",
            "description_tooltip": null,
            "layout": "IPY_MODEL_d4e038668ddb42f08167750f6f530d5f",
            "max": 384,
            "min": 0,
            "orientation": "horizontal",
            "style": "IPY_MODEL_812e8cbc5196422f97a2c3233be6aac6",
            "value": 384
          }
        },
        "7a15410394074ea2be089c7388128a52": {
          "model_module": "@jupyter-widgets/controls",
          "model_name": "HTMLModel",
          "model_module_version": "1.5.0",
          "state": {
            "_dom_classes": [],
            "_model_module": "@jupyter-widgets/controls",
            "_model_module_version": "1.5.0",
            "_model_name": "HTMLModel",
            "_view_count": null,
            "_view_module": "@jupyter-widgets/controls",
            "_view_module_version": "1.5.0",
            "_view_name": "HTMLView",
            "description": "",
            "description_tooltip": null,
            "layout": "IPY_MODEL_dd7a230c2a3845b887a91086a3f0ee94",
            "placeholder": "​",
            "style": "IPY_MODEL_5eef1360dc85457e9f62b0a83aaa2341",
            "value": " 384/384 [00:00&lt;00:00, 10.8kB/s]"
          }
        },
        "5d0a5642d5d74ac58c2c5147b60b30a1": {
          "model_module": "@jupyter-widgets/base",
          "model_name": "LayoutModel",
          "model_module_version": "1.2.0",
          "state": {
            "_model_module": "@jupyter-widgets/base",
            "_model_module_version": "1.2.0",
            "_model_name": "LayoutModel",
            "_view_count": null,
            "_view_module": "@jupyter-widgets/base",
            "_view_module_version": "1.2.0",
            "_view_name": "LayoutView",
            "align_content": null,
            "align_items": null,
            "align_self": null,
            "border": null,
            "bottom": null,
            "display": null,
            "flex": null,
            "flex_flow": null,
            "grid_area": null,
            "grid_auto_columns": null,
            "grid_auto_flow": null,
            "grid_auto_rows": null,
            "grid_column": null,
            "grid_gap": null,
            "grid_row": null,
            "grid_template_areas": null,
            "grid_template_columns": null,
            "grid_template_rows": null,
            "height": null,
            "justify_content": null,
            "justify_items": null,
            "left": null,
            "margin": null,
            "max_height": null,
            "max_width": null,
            "min_height": null,
            "min_width": null,
            "object_fit": null,
            "object_position": null,
            "order": null,
            "overflow": null,
            "overflow_x": null,
            "overflow_y": null,
            "padding": null,
            "right": null,
            "top": null,
            "visibility": null,
            "width": null
          }
        },
        "2be99b3a53b443738510029ab1bf5547": {
          "model_module": "@jupyter-widgets/base",
          "model_name": "LayoutModel",
          "model_module_version": "1.2.0",
          "state": {
            "_model_module": "@jupyter-widgets/base",
            "_model_module_version": "1.2.0",
            "_model_name": "LayoutModel",
            "_view_count": null,
            "_view_module": "@jupyter-widgets/base",
            "_view_module_version": "1.2.0",
            "_view_name": "LayoutView",
            "align_content": null,
            "align_items": null,
            "align_self": null,
            "border": null,
            "bottom": null,
            "display": null,
            "flex": null,
            "flex_flow": null,
            "grid_area": null,
            "grid_auto_columns": null,
            "grid_auto_flow": null,
            "grid_auto_rows": null,
            "grid_column": null,
            "grid_gap": null,
            "grid_row": null,
            "grid_template_areas": null,
            "grid_template_columns": null,
            "grid_template_rows": null,
            "height": null,
            "justify_content": null,
            "justify_items": null,
            "left": null,
            "margin": null,
            "max_height": null,
            "max_width": null,
            "min_height": null,
            "min_width": null,
            "object_fit": null,
            "object_position": null,
            "order": null,
            "overflow": null,
            "overflow_x": null,
            "overflow_y": null,
            "padding": null,
            "right": null,
            "top": null,
            "visibility": null,
            "width": null
          }
        },
        "548d325dc8604366ac65b11176750ec1": {
          "model_module": "@jupyter-widgets/controls",
          "model_name": "DescriptionStyleModel",
          "model_module_version": "1.5.0",
          "state": {
            "_model_module": "@jupyter-widgets/controls",
            "_model_module_version": "1.5.0",
            "_model_name": "DescriptionStyleModel",
            "_view_count": null,
            "_view_module": "@jupyter-widgets/base",
            "_view_module_version": "1.2.0",
            "_view_name": "StyleView",
            "description_width": ""
          }
        },
        "d4e038668ddb42f08167750f6f530d5f": {
          "model_module": "@jupyter-widgets/base",
          "model_name": "LayoutModel",
          "model_module_version": "1.2.0",
          "state": {
            "_model_module": "@jupyter-widgets/base",
            "_model_module_version": "1.2.0",
            "_model_name": "LayoutModel",
            "_view_count": null,
            "_view_module": "@jupyter-widgets/base",
            "_view_module_version": "1.2.0",
            "_view_name": "LayoutView",
            "align_content": null,
            "align_items": null,
            "align_self": null,
            "border": null,
            "bottom": null,
            "display": null,
            "flex": null,
            "flex_flow": null,
            "grid_area": null,
            "grid_auto_columns": null,
            "grid_auto_flow": null,
            "grid_auto_rows": null,
            "grid_column": null,
            "grid_gap": null,
            "grid_row": null,
            "grid_template_areas": null,
            "grid_template_columns": null,
            "grid_template_rows": null,
            "height": null,
            "justify_content": null,
            "justify_items": null,
            "left": null,
            "margin": null,
            "max_height": null,
            "max_width": null,
            "min_height": null,
            "min_width": null,
            "object_fit": null,
            "object_position": null,
            "order": null,
            "overflow": null,
            "overflow_x": null,
            "overflow_y": null,
            "padding": null,
            "right": null,
            "top": null,
            "visibility": null,
            "width": null
          }
        },
        "812e8cbc5196422f97a2c3233be6aac6": {
          "model_module": "@jupyter-widgets/controls",
          "model_name": "ProgressStyleModel",
          "model_module_version": "1.5.0",
          "state": {
            "_model_module": "@jupyter-widgets/controls",
            "_model_module_version": "1.5.0",
            "_model_name": "ProgressStyleModel",
            "_view_count": null,
            "_view_module": "@jupyter-widgets/base",
            "_view_module_version": "1.2.0",
            "_view_name": "StyleView",
            "bar_color": null,
            "description_width": ""
          }
        },
        "dd7a230c2a3845b887a91086a3f0ee94": {
          "model_module": "@jupyter-widgets/base",
          "model_name": "LayoutModel",
          "model_module_version": "1.2.0",
          "state": {
            "_model_module": "@jupyter-widgets/base",
            "_model_module_version": "1.2.0",
            "_model_name": "LayoutModel",
            "_view_count": null,
            "_view_module": "@jupyter-widgets/base",
            "_view_module_version": "1.2.0",
            "_view_name": "LayoutView",
            "align_content": null,
            "align_items": null,
            "align_self": null,
            "border": null,
            "bottom": null,
            "display": null,
            "flex": null,
            "flex_flow": null,
            "grid_area": null,
            "grid_auto_columns": null,
            "grid_auto_flow": null,
            "grid_auto_rows": null,
            "grid_column": null,
            "grid_gap": null,
            "grid_row": null,
            "grid_template_areas": null,
            "grid_template_columns": null,
            "grid_template_rows": null,
            "height": null,
            "justify_content": null,
            "justify_items": null,
            "left": null,
            "margin": null,
            "max_height": null,
            "max_width": null,
            "min_height": null,
            "min_width": null,
            "object_fit": null,
            "object_position": null,
            "order": null,
            "overflow": null,
            "overflow_x": null,
            "overflow_y": null,
            "padding": null,
            "right": null,
            "top": null,
            "visibility": null,
            "width": null
          }
        },
        "5eef1360dc85457e9f62b0a83aaa2341": {
          "model_module": "@jupyter-widgets/controls",
          "model_name": "DescriptionStyleModel",
          "model_module_version": "1.5.0",
          "state": {
            "_model_module": "@jupyter-widgets/controls",
            "_model_module_version": "1.5.0",
            "_model_name": "DescriptionStyleModel",
            "_view_count": null,
            "_view_module": "@jupyter-widgets/base",
            "_view_module_version": "1.2.0",
            "_view_name": "StyleView",
            "description_width": ""
          }
        },
        "34d0dde634a04ba3ba99e97ce03cd240": {
          "model_module": "@jupyter-widgets/controls",
          "model_name": "HBoxModel",
          "model_module_version": "1.5.0",
          "state": {
            "_dom_classes": [],
            "_model_module": "@jupyter-widgets/controls",
            "_model_module_version": "1.5.0",
            "_model_name": "HBoxModel",
            "_view_count": null,
            "_view_module": "@jupyter-widgets/controls",
            "_view_module_version": "1.5.0",
            "_view_name": "HBoxView",
            "box_style": "",
            "children": [
              "IPY_MODEL_02e418b3d7b3493bbd673c939476887a",
              "IPY_MODEL_721fde753e7e457694b1e439048dd4fe",
              "IPY_MODEL_e24a2e5f2d4d405185ca046eee99ff39"
            ],
            "layout": "IPY_MODEL_f1018420990b43ebb75bbb4f7785b396"
          }
        },
        "02e418b3d7b3493bbd673c939476887a": {
          "model_module": "@jupyter-widgets/controls",
          "model_name": "HTMLModel",
          "model_module_version": "1.5.0",
          "state": {
            "_dom_classes": [],
            "_model_module": "@jupyter-widgets/controls",
            "_model_module_version": "1.5.0",
            "_model_name": "HTMLModel",
            "_view_count": null,
            "_view_module": "@jupyter-widgets/controls",
            "_view_module_version": "1.5.0",
            "_view_name": "HTMLView",
            "description": "",
            "description_tooltip": null,
            "layout": "IPY_MODEL_114bf8c020ff4fb4914b93d3a3dc8646",
            "placeholder": "​",
            "style": "IPY_MODEL_fd417433615c4f17b5c3c3aed2ce5fc5",
            "value": "Downloading (…)solve/main/vocab.txt: 100%"
          }
        },
        "721fde753e7e457694b1e439048dd4fe": {
          "model_module": "@jupyter-widgets/controls",
          "model_name": "FloatProgressModel",
          "model_module_version": "1.5.0",
          "state": {
            "_dom_classes": [],
            "_model_module": "@jupyter-widgets/controls",
            "_model_module_version": "1.5.0",
            "_model_name": "FloatProgressModel",
            "_view_count": null,
            "_view_module": "@jupyter-widgets/controls",
            "_view_module_version": "1.5.0",
            "_view_name": "ProgressView",
            "bar_style": "success",
            "description": "",
            "description_tooltip": null,
            "layout": "IPY_MODEL_1232691bde70408c9f30dae267a713a7",
            "max": 824793,
            "min": 0,
            "orientation": "horizontal",
            "style": "IPY_MODEL_2da0fac83a2b48edb32646be330458c0",
            "value": 824793
          }
        },
        "e24a2e5f2d4d405185ca046eee99ff39": {
          "model_module": "@jupyter-widgets/controls",
          "model_name": "HTMLModel",
          "model_module_version": "1.5.0",
          "state": {
            "_dom_classes": [],
            "_model_module": "@jupyter-widgets/controls",
            "_model_module_version": "1.5.0",
            "_model_name": "HTMLModel",
            "_view_count": null,
            "_view_module": "@jupyter-widgets/controls",
            "_view_module_version": "1.5.0",
            "_view_name": "HTMLView",
            "description": "",
            "description_tooltip": null,
            "layout": "IPY_MODEL_13b72117e3cc4ae3a613472edea3d781",
            "placeholder": "​",
            "style": "IPY_MODEL_a4579edc4ffe4bfbbfdead7c9d0b54bf",
            "value": " 825k/825k [00:00&lt;00:00, 8.09MB/s]"
          }
        },
        "f1018420990b43ebb75bbb4f7785b396": {
          "model_module": "@jupyter-widgets/base",
          "model_name": "LayoutModel",
          "model_module_version": "1.2.0",
          "state": {
            "_model_module": "@jupyter-widgets/base",
            "_model_module_version": "1.2.0",
            "_model_name": "LayoutModel",
            "_view_count": null,
            "_view_module": "@jupyter-widgets/base",
            "_view_module_version": "1.2.0",
            "_view_name": "LayoutView",
            "align_content": null,
            "align_items": null,
            "align_self": null,
            "border": null,
            "bottom": null,
            "display": null,
            "flex": null,
            "flex_flow": null,
            "grid_area": null,
            "grid_auto_columns": null,
            "grid_auto_flow": null,
            "grid_auto_rows": null,
            "grid_column": null,
            "grid_gap": null,
            "grid_row": null,
            "grid_template_areas": null,
            "grid_template_columns": null,
            "grid_template_rows": null,
            "height": null,
            "justify_content": null,
            "justify_items": null,
            "left": null,
            "margin": null,
            "max_height": null,
            "max_width": null,
            "min_height": null,
            "min_width": null,
            "object_fit": null,
            "object_position": null,
            "order": null,
            "overflow": null,
            "overflow_x": null,
            "overflow_y": null,
            "padding": null,
            "right": null,
            "top": null,
            "visibility": null,
            "width": null
          }
        },
        "114bf8c020ff4fb4914b93d3a3dc8646": {
          "model_module": "@jupyter-widgets/base",
          "model_name": "LayoutModel",
          "model_module_version": "1.2.0",
          "state": {
            "_model_module": "@jupyter-widgets/base",
            "_model_module_version": "1.2.0",
            "_model_name": "LayoutModel",
            "_view_count": null,
            "_view_module": "@jupyter-widgets/base",
            "_view_module_version": "1.2.0",
            "_view_name": "LayoutView",
            "align_content": null,
            "align_items": null,
            "align_self": null,
            "border": null,
            "bottom": null,
            "display": null,
            "flex": null,
            "flex_flow": null,
            "grid_area": null,
            "grid_auto_columns": null,
            "grid_auto_flow": null,
            "grid_auto_rows": null,
            "grid_column": null,
            "grid_gap": null,
            "grid_row": null,
            "grid_template_areas": null,
            "grid_template_columns": null,
            "grid_template_rows": null,
            "height": null,
            "justify_content": null,
            "justify_items": null,
            "left": null,
            "margin": null,
            "max_height": null,
            "max_width": null,
            "min_height": null,
            "min_width": null,
            "object_fit": null,
            "object_position": null,
            "order": null,
            "overflow": null,
            "overflow_x": null,
            "overflow_y": null,
            "padding": null,
            "right": null,
            "top": null,
            "visibility": null,
            "width": null
          }
        },
        "fd417433615c4f17b5c3c3aed2ce5fc5": {
          "model_module": "@jupyter-widgets/controls",
          "model_name": "DescriptionStyleModel",
          "model_module_version": "1.5.0",
          "state": {
            "_model_module": "@jupyter-widgets/controls",
            "_model_module_version": "1.5.0",
            "_model_name": "DescriptionStyleModel",
            "_view_count": null,
            "_view_module": "@jupyter-widgets/base",
            "_view_module_version": "1.2.0",
            "_view_name": "StyleView",
            "description_width": ""
          }
        },
        "1232691bde70408c9f30dae267a713a7": {
          "model_module": "@jupyter-widgets/base",
          "model_name": "LayoutModel",
          "model_module_version": "1.2.0",
          "state": {
            "_model_module": "@jupyter-widgets/base",
            "_model_module_version": "1.2.0",
            "_model_name": "LayoutModel",
            "_view_count": null,
            "_view_module": "@jupyter-widgets/base",
            "_view_module_version": "1.2.0",
            "_view_name": "LayoutView",
            "align_content": null,
            "align_items": null,
            "align_self": null,
            "border": null,
            "bottom": null,
            "display": null,
            "flex": null,
            "flex_flow": null,
            "grid_area": null,
            "grid_auto_columns": null,
            "grid_auto_flow": null,
            "grid_auto_rows": null,
            "grid_column": null,
            "grid_gap": null,
            "grid_row": null,
            "grid_template_areas": null,
            "grid_template_columns": null,
            "grid_template_rows": null,
            "height": null,
            "justify_content": null,
            "justify_items": null,
            "left": null,
            "margin": null,
            "max_height": null,
            "max_width": null,
            "min_height": null,
            "min_width": null,
            "object_fit": null,
            "object_position": null,
            "order": null,
            "overflow": null,
            "overflow_x": null,
            "overflow_y": null,
            "padding": null,
            "right": null,
            "top": null,
            "visibility": null,
            "width": null
          }
        },
        "2da0fac83a2b48edb32646be330458c0": {
          "model_module": "@jupyter-widgets/controls",
          "model_name": "ProgressStyleModel",
          "model_module_version": "1.5.0",
          "state": {
            "_model_module": "@jupyter-widgets/controls",
            "_model_module_version": "1.5.0",
            "_model_name": "ProgressStyleModel",
            "_view_count": null,
            "_view_module": "@jupyter-widgets/base",
            "_view_module_version": "1.2.0",
            "_view_name": "StyleView",
            "bar_color": null,
            "description_width": ""
          }
        },
        "13b72117e3cc4ae3a613472edea3d781": {
          "model_module": "@jupyter-widgets/base",
          "model_name": "LayoutModel",
          "model_module_version": "1.2.0",
          "state": {
            "_model_module": "@jupyter-widgets/base",
            "_model_module_version": "1.2.0",
            "_model_name": "LayoutModel",
            "_view_count": null,
            "_view_module": "@jupyter-widgets/base",
            "_view_module_version": "1.2.0",
            "_view_name": "LayoutView",
            "align_content": null,
            "align_items": null,
            "align_self": null,
            "border": null,
            "bottom": null,
            "display": null,
            "flex": null,
            "flex_flow": null,
            "grid_area": null,
            "grid_auto_columns": null,
            "grid_auto_flow": null,
            "grid_auto_rows": null,
            "grid_column": null,
            "grid_gap": null,
            "grid_row": null,
            "grid_template_areas": null,
            "grid_template_columns": null,
            "grid_template_rows": null,
            "height": null,
            "justify_content": null,
            "justify_items": null,
            "left": null,
            "margin": null,
            "max_height": null,
            "max_width": null,
            "min_height": null,
            "min_width": null,
            "object_fit": null,
            "object_position": null,
            "order": null,
            "overflow": null,
            "overflow_x": null,
            "overflow_y": null,
            "padding": null,
            "right": null,
            "top": null,
            "visibility": null,
            "width": null
          }
        },
        "a4579edc4ffe4bfbbfdead7c9d0b54bf": {
          "model_module": "@jupyter-widgets/controls",
          "model_name": "DescriptionStyleModel",
          "model_module_version": "1.5.0",
          "state": {
            "_model_module": "@jupyter-widgets/controls",
            "_model_module_version": "1.5.0",
            "_model_name": "DescriptionStyleModel",
            "_view_count": null,
            "_view_module": "@jupyter-widgets/base",
            "_view_module_version": "1.2.0",
            "_view_name": "StyleView",
            "description_width": ""
          }
        },
        "8d53bc528a86443e843786cca778cb1b": {
          "model_module": "@jupyter-widgets/controls",
          "model_name": "HBoxModel",
          "model_module_version": "1.5.0",
          "state": {
            "_dom_classes": [],
            "_model_module": "@jupyter-widgets/controls",
            "_model_module_version": "1.5.0",
            "_model_name": "HBoxModel",
            "_view_count": null,
            "_view_module": "@jupyter-widgets/controls",
            "_view_module_version": "1.5.0",
            "_view_name": "HBoxView",
            "box_style": "",
            "children": [
              "IPY_MODEL_b9fa44779df540738983cf3e2b5ba3c0",
              "IPY_MODEL_5b046f0ce8234261bd6cf8a1087f9725",
              "IPY_MODEL_e0ddc8fe36014cf79f184b892e010030"
            ],
            "layout": "IPY_MODEL_75f917c0f65148b7812fafdc8984579e"
          }
        },
        "b9fa44779df540738983cf3e2b5ba3c0": {
          "model_module": "@jupyter-widgets/controls",
          "model_name": "HTMLModel",
          "model_module_version": "1.5.0",
          "state": {
            "_dom_classes": [],
            "_model_module": "@jupyter-widgets/controls",
            "_model_module_version": "1.5.0",
            "_model_name": "HTMLModel",
            "_view_count": null,
            "_view_module": "@jupyter-widgets/controls",
            "_view_module_version": "1.5.0",
            "_view_name": "HTMLView",
            "description": "",
            "description_tooltip": null,
            "layout": "IPY_MODEL_ddc98b4c8f69446d8db36ddcdddda867",
            "placeholder": "​",
            "style": "IPY_MODEL_6d820717788e41c7bbcf39e5ce4e8dcf",
            "value": "Downloading (…)/main/tokenizer.json: 100%"
          }
        },
        "5b046f0ce8234261bd6cf8a1087f9725": {
          "model_module": "@jupyter-widgets/controls",
          "model_name": "FloatProgressModel",
          "model_module_version": "1.5.0",
          "state": {
            "_dom_classes": [],
            "_model_module": "@jupyter-widgets/controls",
            "_model_module_version": "1.5.0",
            "_model_name": "FloatProgressModel",
            "_view_count": null,
            "_view_module": "@jupyter-widgets/controls",
            "_view_module_version": "1.5.0",
            "_view_name": "ProgressView",
            "bar_style": "success",
            "description": "",
            "description_tooltip": null,
            "layout": "IPY_MODEL_d513e528026748e09f00eee06e051ce6",
            "max": 2642362,
            "min": 0,
            "orientation": "horizontal",
            "style": "IPY_MODEL_eaa66dde85264fc0822e0ca2e7d33f40",
            "value": 2642362
          }
        },
        "e0ddc8fe36014cf79f184b892e010030": {
          "model_module": "@jupyter-widgets/controls",
          "model_name": "HTMLModel",
          "model_module_version": "1.5.0",
          "state": {
            "_dom_classes": [],
            "_model_module": "@jupyter-widgets/controls",
            "_model_module_version": "1.5.0",
            "_model_name": "HTMLModel",
            "_view_count": null,
            "_view_module": "@jupyter-widgets/controls",
            "_view_module_version": "1.5.0",
            "_view_name": "HTMLView",
            "description": "",
            "description_tooltip": null,
            "layout": "IPY_MODEL_ac3e7cfcd4c74602bcb00a94d3a0a89f",
            "placeholder": "​",
            "style": "IPY_MODEL_abf2995c4b9846ff8243d6c927e0d80e",
            "value": " 2.64M/2.64M [00:00&lt;00:00, 21.5MB/s]"
          }
        },
        "75f917c0f65148b7812fafdc8984579e": {
          "model_module": "@jupyter-widgets/base",
          "model_name": "LayoutModel",
          "model_module_version": "1.2.0",
          "state": {
            "_model_module": "@jupyter-widgets/base",
            "_model_module_version": "1.2.0",
            "_model_name": "LayoutModel",
            "_view_count": null,
            "_view_module": "@jupyter-widgets/base",
            "_view_module_version": "1.2.0",
            "_view_name": "LayoutView",
            "align_content": null,
            "align_items": null,
            "align_self": null,
            "border": null,
            "bottom": null,
            "display": null,
            "flex": null,
            "flex_flow": null,
            "grid_area": null,
            "grid_auto_columns": null,
            "grid_auto_flow": null,
            "grid_auto_rows": null,
            "grid_column": null,
            "grid_gap": null,
            "grid_row": null,
            "grid_template_areas": null,
            "grid_template_columns": null,
            "grid_template_rows": null,
            "height": null,
            "justify_content": null,
            "justify_items": null,
            "left": null,
            "margin": null,
            "max_height": null,
            "max_width": null,
            "min_height": null,
            "min_width": null,
            "object_fit": null,
            "object_position": null,
            "order": null,
            "overflow": null,
            "overflow_x": null,
            "overflow_y": null,
            "padding": null,
            "right": null,
            "top": null,
            "visibility": null,
            "width": null
          }
        },
        "ddc98b4c8f69446d8db36ddcdddda867": {
          "model_module": "@jupyter-widgets/base",
          "model_name": "LayoutModel",
          "model_module_version": "1.2.0",
          "state": {
            "_model_module": "@jupyter-widgets/base",
            "_model_module_version": "1.2.0",
            "_model_name": "LayoutModel",
            "_view_count": null,
            "_view_module": "@jupyter-widgets/base",
            "_view_module_version": "1.2.0",
            "_view_name": "LayoutView",
            "align_content": null,
            "align_items": null,
            "align_self": null,
            "border": null,
            "bottom": null,
            "display": null,
            "flex": null,
            "flex_flow": null,
            "grid_area": null,
            "grid_auto_columns": null,
            "grid_auto_flow": null,
            "grid_auto_rows": null,
            "grid_column": null,
            "grid_gap": null,
            "grid_row": null,
            "grid_template_areas": null,
            "grid_template_columns": null,
            "grid_template_rows": null,
            "height": null,
            "justify_content": null,
            "justify_items": null,
            "left": null,
            "margin": null,
            "max_height": null,
            "max_width": null,
            "min_height": null,
            "min_width": null,
            "object_fit": null,
            "object_position": null,
            "order": null,
            "overflow": null,
            "overflow_x": null,
            "overflow_y": null,
            "padding": null,
            "right": null,
            "top": null,
            "visibility": null,
            "width": null
          }
        },
        "6d820717788e41c7bbcf39e5ce4e8dcf": {
          "model_module": "@jupyter-widgets/controls",
          "model_name": "DescriptionStyleModel",
          "model_module_version": "1.5.0",
          "state": {
            "_model_module": "@jupyter-widgets/controls",
            "_model_module_version": "1.5.0",
            "_model_name": "DescriptionStyleModel",
            "_view_count": null,
            "_view_module": "@jupyter-widgets/base",
            "_view_module_version": "1.2.0",
            "_view_name": "StyleView",
            "description_width": ""
          }
        },
        "d513e528026748e09f00eee06e051ce6": {
          "model_module": "@jupyter-widgets/base",
          "model_name": "LayoutModel",
          "model_module_version": "1.2.0",
          "state": {
            "_model_module": "@jupyter-widgets/base",
            "_model_module_version": "1.2.0",
            "_model_name": "LayoutModel",
            "_view_count": null,
            "_view_module": "@jupyter-widgets/base",
            "_view_module_version": "1.2.0",
            "_view_name": "LayoutView",
            "align_content": null,
            "align_items": null,
            "align_self": null,
            "border": null,
            "bottom": null,
            "display": null,
            "flex": null,
            "flex_flow": null,
            "grid_area": null,
            "grid_auto_columns": null,
            "grid_auto_flow": null,
            "grid_auto_rows": null,
            "grid_column": null,
            "grid_gap": null,
            "grid_row": null,
            "grid_template_areas": null,
            "grid_template_columns": null,
            "grid_template_rows": null,
            "height": null,
            "justify_content": null,
            "justify_items": null,
            "left": null,
            "margin": null,
            "max_height": null,
            "max_width": null,
            "min_height": null,
            "min_width": null,
            "object_fit": null,
            "object_position": null,
            "order": null,
            "overflow": null,
            "overflow_x": null,
            "overflow_y": null,
            "padding": null,
            "right": null,
            "top": null,
            "visibility": null,
            "width": null
          }
        },
        "eaa66dde85264fc0822e0ca2e7d33f40": {
          "model_module": "@jupyter-widgets/controls",
          "model_name": "ProgressStyleModel",
          "model_module_version": "1.5.0",
          "state": {
            "_model_module": "@jupyter-widgets/controls",
            "_model_module_version": "1.5.0",
            "_model_name": "ProgressStyleModel",
            "_view_count": null,
            "_view_module": "@jupyter-widgets/base",
            "_view_module_version": "1.2.0",
            "_view_name": "StyleView",
            "bar_color": null,
            "description_width": ""
          }
        },
        "ac3e7cfcd4c74602bcb00a94d3a0a89f": {
          "model_module": "@jupyter-widgets/base",
          "model_name": "LayoutModel",
          "model_module_version": "1.2.0",
          "state": {
            "_model_module": "@jupyter-widgets/base",
            "_model_module_version": "1.2.0",
            "_model_name": "LayoutModel",
            "_view_count": null,
            "_view_module": "@jupyter-widgets/base",
            "_view_module_version": "1.2.0",
            "_view_name": "LayoutView",
            "align_content": null,
            "align_items": null,
            "align_self": null,
            "border": null,
            "bottom": null,
            "display": null,
            "flex": null,
            "flex_flow": null,
            "grid_area": null,
            "grid_auto_columns": null,
            "grid_auto_flow": null,
            "grid_auto_rows": null,
            "grid_column": null,
            "grid_gap": null,
            "grid_row": null,
            "grid_template_areas": null,
            "grid_template_columns": null,
            "grid_template_rows": null,
            "height": null,
            "justify_content": null,
            "justify_items": null,
            "left": null,
            "margin": null,
            "max_height": null,
            "max_width": null,
            "min_height": null,
            "min_width": null,
            "object_fit": null,
            "object_position": null,
            "order": null,
            "overflow": null,
            "overflow_x": null,
            "overflow_y": null,
            "padding": null,
            "right": null,
            "top": null,
            "visibility": null,
            "width": null
          }
        },
        "abf2995c4b9846ff8243d6c927e0d80e": {
          "model_module": "@jupyter-widgets/controls",
          "model_name": "DescriptionStyleModel",
          "model_module_version": "1.5.0",
          "state": {
            "_model_module": "@jupyter-widgets/controls",
            "_model_module_version": "1.5.0",
            "_model_name": "DescriptionStyleModel",
            "_view_count": null,
            "_view_module": "@jupyter-widgets/base",
            "_view_module_version": "1.2.0",
            "_view_name": "StyleView",
            "description_width": ""
          }
        },
        "adb062aa7d7d4426bf3526a8ca34258c": {
          "model_module": "@jupyter-widgets/controls",
          "model_name": "HBoxModel",
          "model_module_version": "1.5.0",
          "state": {
            "_dom_classes": [],
            "_model_module": "@jupyter-widgets/controls",
            "_model_module_version": "1.5.0",
            "_model_name": "HBoxModel",
            "_view_count": null,
            "_view_module": "@jupyter-widgets/controls",
            "_view_module_version": "1.5.0",
            "_view_name": "HBoxView",
            "box_style": "",
            "children": [
              "IPY_MODEL_a2ae1c95890f485b9974a83881122548",
              "IPY_MODEL_e57795ed719b480fb0c0313fa8d3f172",
              "IPY_MODEL_f149d8f0286c4384b86c79d8161b3c38"
            ],
            "layout": "IPY_MODEL_6b0b9dcb7d2242e8b36632cb07545b9a"
          }
        },
        "a2ae1c95890f485b9974a83881122548": {
          "model_module": "@jupyter-widgets/controls",
          "model_name": "HTMLModel",
          "model_module_version": "1.5.0",
          "state": {
            "_dom_classes": [],
            "_model_module": "@jupyter-widgets/controls",
            "_model_module_version": "1.5.0",
            "_model_name": "HTMLModel",
            "_view_count": null,
            "_view_module": "@jupyter-widgets/controls",
            "_view_module_version": "1.5.0",
            "_view_name": "HTMLView",
            "description": "",
            "description_tooltip": null,
            "layout": "IPY_MODEL_6d2b263724d248c88d4dad2bc32cdaaa",
            "placeholder": "​",
            "style": "IPY_MODEL_3d5a27da973b42f587e2f595ca9b6f7b",
            "value": "Downloading (…)cial_tokens_map.json: 100%"
          }
        },
        "e57795ed719b480fb0c0313fa8d3f172": {
          "model_module": "@jupyter-widgets/controls",
          "model_name": "FloatProgressModel",
          "model_module_version": "1.5.0",
          "state": {
            "_dom_classes": [],
            "_model_module": "@jupyter-widgets/controls",
            "_model_module_version": "1.5.0",
            "_model_name": "FloatProgressModel",
            "_view_count": null,
            "_view_module": "@jupyter-widgets/controls",
            "_view_module_version": "1.5.0",
            "_view_name": "ProgressView",
            "bar_style": "success",
            "description": "",
            "description_tooltip": null,
            "layout": "IPY_MODEL_60f5800b17064aeba3de3cd00070bce4",
            "max": 112,
            "min": 0,
            "orientation": "horizontal",
            "style": "IPY_MODEL_9dc475ffaaed4ae1885699102198cbd5",
            "value": 112
          }
        },
        "f149d8f0286c4384b86c79d8161b3c38": {
          "model_module": "@jupyter-widgets/controls",
          "model_name": "HTMLModel",
          "model_module_version": "1.5.0",
          "state": {
            "_dom_classes": [],
            "_model_module": "@jupyter-widgets/controls",
            "_model_module_version": "1.5.0",
            "_model_name": "HTMLModel",
            "_view_count": null,
            "_view_module": "@jupyter-widgets/controls",
            "_view_module_version": "1.5.0",
            "_view_name": "HTMLView",
            "description": "",
            "description_tooltip": null,
            "layout": "IPY_MODEL_be09f66f68024901aad90481a8c381a4",
            "placeholder": "​",
            "style": "IPY_MODEL_00d78a8833ce424cba92963efea99d2b",
            "value": " 112/112 [00:00&lt;00:00, 3.12kB/s]"
          }
        },
        "6b0b9dcb7d2242e8b36632cb07545b9a": {
          "model_module": "@jupyter-widgets/base",
          "model_name": "LayoutModel",
          "model_module_version": "1.2.0",
          "state": {
            "_model_module": "@jupyter-widgets/base",
            "_model_module_version": "1.2.0",
            "_model_name": "LayoutModel",
            "_view_count": null,
            "_view_module": "@jupyter-widgets/base",
            "_view_module_version": "1.2.0",
            "_view_name": "LayoutView",
            "align_content": null,
            "align_items": null,
            "align_self": null,
            "border": null,
            "bottom": null,
            "display": null,
            "flex": null,
            "flex_flow": null,
            "grid_area": null,
            "grid_auto_columns": null,
            "grid_auto_flow": null,
            "grid_auto_rows": null,
            "grid_column": null,
            "grid_gap": null,
            "grid_row": null,
            "grid_template_areas": null,
            "grid_template_columns": null,
            "grid_template_rows": null,
            "height": null,
            "justify_content": null,
            "justify_items": null,
            "left": null,
            "margin": null,
            "max_height": null,
            "max_width": null,
            "min_height": null,
            "min_width": null,
            "object_fit": null,
            "object_position": null,
            "order": null,
            "overflow": null,
            "overflow_x": null,
            "overflow_y": null,
            "padding": null,
            "right": null,
            "top": null,
            "visibility": null,
            "width": null
          }
        },
        "6d2b263724d248c88d4dad2bc32cdaaa": {
          "model_module": "@jupyter-widgets/base",
          "model_name": "LayoutModel",
          "model_module_version": "1.2.0",
          "state": {
            "_model_module": "@jupyter-widgets/base",
            "_model_module_version": "1.2.0",
            "_model_name": "LayoutModel",
            "_view_count": null,
            "_view_module": "@jupyter-widgets/base",
            "_view_module_version": "1.2.0",
            "_view_name": "LayoutView",
            "align_content": null,
            "align_items": null,
            "align_self": null,
            "border": null,
            "bottom": null,
            "display": null,
            "flex": null,
            "flex_flow": null,
            "grid_area": null,
            "grid_auto_columns": null,
            "grid_auto_flow": null,
            "grid_auto_rows": null,
            "grid_column": null,
            "grid_gap": null,
            "grid_row": null,
            "grid_template_areas": null,
            "grid_template_columns": null,
            "grid_template_rows": null,
            "height": null,
            "justify_content": null,
            "justify_items": null,
            "left": null,
            "margin": null,
            "max_height": null,
            "max_width": null,
            "min_height": null,
            "min_width": null,
            "object_fit": null,
            "object_position": null,
            "order": null,
            "overflow": null,
            "overflow_x": null,
            "overflow_y": null,
            "padding": null,
            "right": null,
            "top": null,
            "visibility": null,
            "width": null
          }
        },
        "3d5a27da973b42f587e2f595ca9b6f7b": {
          "model_module": "@jupyter-widgets/controls",
          "model_name": "DescriptionStyleModel",
          "model_module_version": "1.5.0",
          "state": {
            "_model_module": "@jupyter-widgets/controls",
            "_model_module_version": "1.5.0",
            "_model_name": "DescriptionStyleModel",
            "_view_count": null,
            "_view_module": "@jupyter-widgets/base",
            "_view_module_version": "1.2.0",
            "_view_name": "StyleView",
            "description_width": ""
          }
        },
        "60f5800b17064aeba3de3cd00070bce4": {
          "model_module": "@jupyter-widgets/base",
          "model_name": "LayoutModel",
          "model_module_version": "1.2.0",
          "state": {
            "_model_module": "@jupyter-widgets/base",
            "_model_module_version": "1.2.0",
            "_model_name": "LayoutModel",
            "_view_count": null,
            "_view_module": "@jupyter-widgets/base",
            "_view_module_version": "1.2.0",
            "_view_name": "LayoutView",
            "align_content": null,
            "align_items": null,
            "align_self": null,
            "border": null,
            "bottom": null,
            "display": null,
            "flex": null,
            "flex_flow": null,
            "grid_area": null,
            "grid_auto_columns": null,
            "grid_auto_flow": null,
            "grid_auto_rows": null,
            "grid_column": null,
            "grid_gap": null,
            "grid_row": null,
            "grid_template_areas": null,
            "grid_template_columns": null,
            "grid_template_rows": null,
            "height": null,
            "justify_content": null,
            "justify_items": null,
            "left": null,
            "margin": null,
            "max_height": null,
            "max_width": null,
            "min_height": null,
            "min_width": null,
            "object_fit": null,
            "object_position": null,
            "order": null,
            "overflow": null,
            "overflow_x": null,
            "overflow_y": null,
            "padding": null,
            "right": null,
            "top": null,
            "visibility": null,
            "width": null
          }
        },
        "9dc475ffaaed4ae1885699102198cbd5": {
          "model_module": "@jupyter-widgets/controls",
          "model_name": "ProgressStyleModel",
          "model_module_version": "1.5.0",
          "state": {
            "_model_module": "@jupyter-widgets/controls",
            "_model_module_version": "1.5.0",
            "_model_name": "ProgressStyleModel",
            "_view_count": null,
            "_view_module": "@jupyter-widgets/base",
            "_view_module_version": "1.2.0",
            "_view_name": "StyleView",
            "bar_color": null,
            "description_width": ""
          }
        },
        "be09f66f68024901aad90481a8c381a4": {
          "model_module": "@jupyter-widgets/base",
          "model_name": "LayoutModel",
          "model_module_version": "1.2.0",
          "state": {
            "_model_module": "@jupyter-widgets/base",
            "_model_module_version": "1.2.0",
            "_model_name": "LayoutModel",
            "_view_count": null,
            "_view_module": "@jupyter-widgets/base",
            "_view_module_version": "1.2.0",
            "_view_name": "LayoutView",
            "align_content": null,
            "align_items": null,
            "align_self": null,
            "border": null,
            "bottom": null,
            "display": null,
            "flex": null,
            "flex_flow": null,
            "grid_area": null,
            "grid_auto_columns": null,
            "grid_auto_flow": null,
            "grid_auto_rows": null,
            "grid_column": null,
            "grid_gap": null,
            "grid_row": null,
            "grid_template_areas": null,
            "grid_template_columns": null,
            "grid_template_rows": null,
            "height": null,
            "justify_content": null,
            "justify_items": null,
            "left": null,
            "margin": null,
            "max_height": null,
            "max_width": null,
            "min_height": null,
            "min_width": null,
            "object_fit": null,
            "object_position": null,
            "order": null,
            "overflow": null,
            "overflow_x": null,
            "overflow_y": null,
            "padding": null,
            "right": null,
            "top": null,
            "visibility": null,
            "width": null
          }
        },
        "00d78a8833ce424cba92963efea99d2b": {
          "model_module": "@jupyter-widgets/controls",
          "model_name": "DescriptionStyleModel",
          "model_module_version": "1.5.0",
          "state": {
            "_model_module": "@jupyter-widgets/controls",
            "_model_module_version": "1.5.0",
            "_model_name": "DescriptionStyleModel",
            "_view_count": null,
            "_view_module": "@jupyter-widgets/base",
            "_view_module_version": "1.2.0",
            "_view_name": "StyleView",
            "description_width": ""
          }
        }
      }
    }
  },
  "nbformat": 4,
  "nbformat_minor": 5
}